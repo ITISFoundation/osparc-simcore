{
 "cells": [
  {
   "cell_type": "code",
   "execution_count": 3,
   "metadata": {},
   "outputs": [],
   "source": [
    "import asyncio\n",
    "import simcore_storage_sdk\n",
    "from simcore_storage_sdk.rest import ApiException"
   ]
  },
  {
   "cell_type": "code",
   "execution_count": 13,
   "metadata": {},
   "outputs": [],
   "source": [
    "config = simcore_storage_sdk.Configuration()\n",
    "config.host = config.host.format(host=\"localhost\", port=\"11111\", basePath=\"v0\")\n",
    "default_api_instance = simcore_storage_sdk.DefaultApi(simcore_storage_sdk.ApiClient(config))\n",
    "users_api_instance = simcore_storage_sdk.UsersApi(simcore_storage_sdk.ApiClient(config))"
   ]
  },
  {
   "cell_type": "code",
   "execution_count": 18,
   "metadata": {},
   "outputs": [],
   "source": [
    "async def get_root():\n",
    "    try:\n",
    "        api_response = await users_api_instance.health_check()\n",
    "        print(api_response)\n",
    "    except ApiException as e:\n",
    "        print(\"Exception when calling UserApi->root_get: %s\\n\" % e)"
   ]
  },
  {
   "cell_type": "code",
   "execution_count": 19,
   "metadata": {},
   "outputs": [],
   "source": [
    "async def test_api():\n",
    "    await get_root()"
   ]
  },
  {
   "cell_type": "code",
   "execution_count": 20,
   "metadata": {},
   "outputs": [
    {
     "name": "stdout",
     "output_type": "stream",
     "text": [
      "{'data': {'api_version': None,\n",
      "          'name': 'simcore_service_storage',\n",
      "          'status': 'SERVICE_RUNNING',\n",
      "          'version': '0.1.0'},\n",
      " 'error': None}\n"
     ]
    }
   ],
   "source": [
    "await test_api()"
   ]
  }
 ],
 "metadata": {
  "kernelspec": {
   "display_name": "Python 3",
   "language": "python",
   "name": "python3"
  },
  "language_info": {
   "codemirror_mode": {
    "name": "ipython",
    "version": 3
   },
   "file_extension": ".py",
   "mimetype": "text/x-python",
   "name": "python",
   "nbconvert_exporter": "python",
   "pygments_lexer": "ipython3",
   "version": "3.6.7"
  }
 },
 "nbformat": 4,
 "nbformat_minor": 2
}
