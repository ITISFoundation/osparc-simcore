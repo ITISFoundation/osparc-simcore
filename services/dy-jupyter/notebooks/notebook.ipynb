{
 "cells": [
  {
   "cell_type": "markdown",
   "metadata": {},
   "source": [
    "## SIMCORE cheat sheet\n",
    "\n",
    "### Kernel agnostic access to the node input/output ports\n",
    "\n",
    "Input data is automatically downloaded to __~/inputs/__\n",
    "- port of type file is available in: __~/inputs/MyPortKey/__\n",
    "  In case of compressed file (zip or tgz) the uncompressed files are available in the folder\n",
    "- port of any other type (number, integer, string) is available in: __~/inputs/key_values.json__  \n",
    "\n",
    "Output data is automatically uploaded from __~/outputs/__\n",
    "- port of type file shall be saved to: __~/outputs/MyPortKey/__\n",
    "  In case of multiple files, they will be automatically compressed and uploaded.\n",
    "- port of any other type (number, integer, string) shall be saved in: __~/outputs/key_values.json__\n",
    "  ```\n",
    "  #key_values.json\n",
    "  {\n",
    "      \"myIntValue\": 5,\n",
    "      \"myNumberValue\": 5.0,\n",
    "      \"myStringValue\": \"Hello world\"\n",
    "  }\n",
    "  ```\n",
    "\n",
    "### python3  - Direct access to the node input/output ports using simcore-sdk\n",
    "\n",
    "```python\n",
    "from simcore_sdk import node_ports\n",
    "PORTS = node_ports.ports() # returns a Nodeports instance with all the input/output data\n",
    "```\n",
    "Importing from input port 0\n",
    "```python\n",
    "#downloads the file from the storage to the notebook and returns its path\n",
    "input_1 = await PORTS.inputs[0].get() \n",
    "#read the text inside the file (only if it's a text file)\n",
    "text = input_1.read_text()\n",
    "```\n",
    "Exporting to output port 0\n",
    "```python\n",
    "# create a dummy file\n",
    "dummy_file_path = Path(\"dummy_file.csv\")\n",
    "# write some text in the file\n",
    "dummy_file_path.write_text(\"Hello from notebook!!\")\n",
    "# set this file as being the output 0 of the node (internally uploads the file to the storage)\n",
    "await PORTS.outputs[0].set(dummy_file_path)\n",
    "```"
   ]
  },
  {
   "cell_type": "code",
   "execution_count": null,
   "metadata": {},
   "outputs": [],
   "source": []
  }
 ],
 "metadata": {
  "celltoolbar": "Initialization Cell",
  "kernelspec": {
   "display_name": "Python 3",
   "language": "python",
   "name": "python3"
  },
  "language_info": {
   "codemirror_mode": {
    "name": "ipython",
    "version": 3
   },
   "file_extension": ".py",
   "mimetype": "text/x-python",
   "name": "python",
   "nbconvert_exporter": "python",
   "pygments_lexer": "ipython3",
   "version": "3.7.1"
  }
 },
 "nbformat": 4,
 "nbformat_minor": 2
}
