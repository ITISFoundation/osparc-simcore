{
 "cells": [
  {
   "cell_type": "code",
   "execution_count": null,
   "metadata": {
    "init_cell": false
   },
   "outputs": [],
   "source": [
    "from simcore_sdk.nodeports.nodeports import PORTS\n",
    "from pathlib import Path"
   ]
  },
  {
   "cell_type": "markdown",
   "metadata": {},
   "source": [
    "Importing from input port 0\n",
    "```python\n",
    "input_1 = Path(PORTS.inputs[0].get())\n",
    "with input_1.open() as file_stream:\n",
    "    text = file_stream.read()\n",
    "```\n",
    "Exporting to output port 0\n",
    "```python\n",
    "dummy_file_path = Path(\"dummy_file.csv\")\n",
    "dummy_file_path.write_text(\"Hello from notebook!!\")\n",
    "PORTS.outputs[0].set(str(dummy_file_path))\n",
    "```"
   ]
  },
  {
   "cell_type": "code",
   "execution_count": null,
   "metadata": {},
   "outputs": [],
   "source": []
  }
 ],
 "metadata": {
  "celltoolbar": "Initialization Cell",
  "kernelspec": {
   "display_name": "Python 3",
   "language": "python",
   "name": "python3"
  },
  "language_info": {
   "codemirror_mode": {
    "name": "ipython",
    "version": 3
   },
   "file_extension": ".py",
   "mimetype": "text/x-python",
   "name": "python",
   "nbconvert_exporter": "python",
   "pygments_lexer": "ipython3",
   "version": "3.6.5"
  }
 },
 "nbformat": 4,
 "nbformat_minor": 2
}
