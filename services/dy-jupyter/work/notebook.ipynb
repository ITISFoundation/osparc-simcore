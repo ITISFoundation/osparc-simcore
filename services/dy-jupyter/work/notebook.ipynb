{
 "cells": [
  {
   "cell_type": "markdown",
   "metadata": {},
   "source": [
    "# SIMCORE cheat sheet\n",
    "## Get access to the node input/output ports\n",
    "```python\n",
    "from simcore_sdk import node_ports\n",
    "PORTS = node_ports.ports() # returns a Nodeports instance with all the input/output data\n",
    "```\n",
    "Importing from input port 0\n",
    "```python\n",
    "#downloads the file from the storage to the notebook and returns its path\n",
    "input_1 = await PORTS.inputs[0].get() \n",
    "#read the text inside the file (only if it's a text file)\n",
    "text = input_1.read_text()\n",
    "```\n",
    "Exporting to output port 0\n",
    "```python\n",
    "# create a dummy file\n",
    "dummy_file_path = Path(\"dummy_file.csv\")\n",
    "# write some text in the file\n",
    "dummy_file_path.write_text(\"Hello from notebook!!\")\n",
    "# set this file as being the output 0 of the node (internally uploads the file to the storage)\n",
    "await PORTS.outputs[0].set(dummy_file_path)\n",
    "```"
   ]
  },
  {
   "cell_type": "code",
   "execution_count": null,
   "metadata": {
    "init_cell": true
   },
   "outputs": [],
   "source": [
    "from simcore_sdk import node_ports\n",
    "PORTS = node_ports.ports()"
   ]
  }
 ],
 "metadata": {
  "celltoolbar": "Initialization Cell",
  "kernelspec": {
   "display_name": "Python 3",
   "language": "python",
   "name": "python3"
  },
  "language_info": {
   "codemirror_mode": {
    "name": "ipython",
    "version": 3
   },
   "file_extension": ".py",
   "mimetype": "text/x-python",
   "name": "python",
   "nbconvert_exporter": "python",
   "pygments_lexer": "ipython3",
   "version": "3.6.6"
  }
 },
 "nbformat": 4,
 "nbformat_minor": 2
}
