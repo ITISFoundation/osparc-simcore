{
 "cells": [
  {
   "cell_type": "markdown",
   "metadata": {},
   "source": [
    "# simcore postgres database\n",
    "\n",
    "Contains database **models** served by the ``postgres`` service and adds an extension with **migration** tools (e.g. entrypoint that wraps [alembic]'s CLI in a similar way to [flask-migrate]).\n",
    "\n",
    "\n",
    "To install migration tools add ``[migration]`` extra\n",
    "```console\n",
    "  pip install .[migration]\n",
    "```\n",
    "and to call the CLI use\n",
    "```console\n",
    "  simcore-postgres-database --help\n",
    "\n",
    "  # or a short alias\n",
    "\n",
    "  sc-pg --help\n",
    "```\n",
    "This entrypoing wraps calls to [alembic] commands and customizes it for ``simcore_postgres_database`` models and `postgres` online database.\n",
    "\n",
    "\n",
    "A typical workflow:\n",
    "\n",
    "### Discover\n",
    "\n",
    "```console\n",
    "  simcore-postgres-database discover -u simcore -p simcore\n",
    "```\n",
    "\n",
    "```console\n",
    "  simcore-postgres-database info\n",
    "```\n",
    "\n",
    "### Review\n",
    "\n",
    "```console\n",
    "  simcore-postgres-database review -m \"some message about changes\"\n",
    "```\n",
    "Auto-generates some scripts under [migration/versions](packages/postgres-database/migration/versions). The migration script **needs to be reviewed and edited**, as Alembic currently does not detect every change you\n",
    "make to your models. In particular, Alembic is currently unable to detect:\n",
    "- table name changes,\n",
    "- column name changes,\n",
    "- or anonymously named constraints\n",
    "A detailed summary of limitations can be found in the Alembic autogenerate documentation.\n",
    "Once finalized, the migration script also needs to be added to version control.\n",
    "\n",
    "### Upgrade\n",
    "\n",
    "Upgrades to given revision (get ``info`` to check history)\n",
    "```console\n",
    "  simcore-postgres-database upgrade head\n",
    "```\n",
    "\n",
    "\n",
    "[alembic]:https://alembic.sqlalchemy.org/en/latest/\n",
    "[flask-migrate]:https://flask-migrate.readthedocs.io/en/latest/\n"
   ]
  },
  {
   "cell_type": "code",
   "execution_count": null,
   "metadata": {},
   "outputs": [],
   "source": [
    "import os\n",
    "import simcore_postgres_database as scpg\n",
    "\n",
    "alembic_ini = os.path.join( os.path.dirname(scpg.__file__), 'alembic.ini')"
   ]
  },
  {
   "cell_type": "code",
   "execution_count": null,
   "metadata": {},
   "outputs": [],
   "source": [
    "! echo $alembic_ini\n",
    "!alembic -c $alembic_ini history\n",
    "#!alembic --help\n",
    "#"
   ]
  },
  {
   "cell_type": "code",
   "execution_count": null,
   "metadata": {},
   "outputs": [],
   "source": [
    "!alembic -c $alembic_ini stamp --sql 645807399320"
   ]
  },
  {
   "cell_type": "code",
   "execution_count": null,
   "metadata": {},
   "outputs": [],
   "source": [
    "!sc-pg --help"
   ]
  },
  {
   "cell_type": "code",
   "execution_count": null,
   "metadata": {},
   "outputs": [],
   "source": [
    "!sc-pg discover"
   ]
  },
  {
   "cell_type": "code",
   "execution_count": null,
   "metadata": {},
   "outputs": [],
   "source": [
    "!sc-pg upgrade head"
   ]
  }
 ],
 "metadata": {
  "kernelspec": {
   "display_name": "Python 3",
   "language": "python",
   "name": "python3"
  },
  "language_info": {
   "codemirror_mode": {
    "name": "ipython",
    "version": 3
   },
   "file_extension": ".py",
   "mimetype": "text/x-python",
   "name": "python",
   "nbconvert_exporter": "python",
   "pygments_lexer": "ipython3",
   "version": "3.7.3"
  }
 },
 "nbformat": 4,
 "nbformat_minor": 2
}
