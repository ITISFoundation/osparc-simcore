{
 "cells": [
  {
   "cell_type": "code",
   "execution_count": null,
   "metadata": {
    "extensions": {
     "jupyter_dashboards": {
      "version": 1,
      "views": {
       "grid_default": {
        "hidden": true
       },
       "report_default": {}
      }
     }
    },
    "hide_input": false
   },
   "outputs": [],
   "source": [
    "from simcore_sdk.nodeports.nodeports import PORTS"
   ]
  },
  {
   "cell_type": "code",
   "execution_count": null,
   "metadata": {
    "extensions": {
     "jupyter_dashboards": {
      "version": 1,
      "views": {
       "grid_default": {
        "col": null,
        "height": 19,
        "hidden": false,
        "row": 0,
        "width": null
       },
       "report_default": {
        "hidden": false
       }
      }
     }
    },
    "hide_input": false
   },
   "outputs": [],
   "source": [
    "import plotly\n",
    "import plotly.offline as offline\n",
    "import plotly.figure_factory as ff\n",
    "import plotly.graph_objs as go\n",
    "import pandas as pd\n",
    "import os\n",
    "\n",
    "offline.init_notebook_mode(connected=True)\n",
    "\n",
    "column_name_map = {0: {\"name\":\"time [s]\"}, \n",
    "                   1: {\"name\":\"rate\"}, \n",
    "                   2: {\"name\":\"demand\"}, \n",
    "                   3: {\"name\":\"move/(max - min) sympathetic efferent\", \"scale\":1/0.0008}, \n",
    "                   4: {\"name\":\"threshold indirect parasympathetic efferent\", \"scale\":-1.0},\n",
    "                   5: {\"name\":\"direct parasympathetic efferent\", \"scale\":-1/0.0008}, \n",
    "                   6: {\"name\":\"recruitment = coefficient of variation\"}}\n",
    "data_path = PORTS.inputs[0].get()\n",
    "#data_frame = pd.read_csv(data_path, sep=',', names=[column_name_map[i][\"name\"] for i in column_name_map.keys()])\n",
    "columns_filters = range(7)\n",
    "outputController = pd.read_csv(data_path, sep=' ', header=None, skipinitialspace=True)\n",
    "# add the column names to some values\n",
    "column_rename_dict = {}\n",
    "for i in column_name_map:\n",
    "    column_rename_dict[i] = column_name_map[i][\"name\"]\n",
    "outputController.rename(inplace=True, columns=column_rename_dict)\n",
    "\n",
    "trace = go.Table(\n",
    "    header=dict(\n",
    "        values=[outputController.columns[i] for i in column_name_map.keys()],\n",
    "        #values=[column_name_map[i][\"name\"] for i in column_name_map.keys()],\n",
    "        fill=dict(color=\"#C2D4FF\"),\n",
    "        align=[\"left\"]\n",
    "    ),\n",
    "    cells=dict(\n",
    "        values=[outputController[outputController.columns[i]] for i in column_name_map.keys()],\n",
    "        #values=[data_frame[0:8]],\n",
    "        fill=dict(color=\"#F5F8FF\"),\n",
    "        align=[\"left\"]\n",
    "    )\n",
    ")\n",
    "data = [trace]\n",
    "\n",
    "offline.iplot(data, filename='data-table', config={\"displayModeBar\": False})"
   ]
  },
  {
   "cell_type": "code",
   "execution_count": null,
   "metadata": {},
   "outputs": [],
   "source": [
    "# define variables\n",
    "NumberOfLayers = 3\n",
    "_NumberOfCells = [600, 600, 600] # cells per layer\n",
    "TotalNumberOfCells = sum(_NumberOfCells)\n",
    "mrows, ncols = outputController.shape\n",
    "#x=outputController(:,1); %time\n",
    "#y1=outputController(:,2); %rate\n",
    "#y2=outputController(:,3); %demand\n",
    "#y3=outputController(:,4); %move/(max - min)% sympathetic efferent\n",
    "#y4=-1*outputController(:,5); %threshold % indirect parasympathetic efferent\n",
    "#y5=-1*outputController(:,6); %direct parasympathetic efferent\n",
    "#y6=outputController(:,7); %recruitment = coefficient of variation\n",
    "#y7=outputController(:,8); %first cell\n",
    "FirstCellPosition=8-1; #initialize where cell information begins\n",
    "\n",
    "def NumberOfCells(matlab_index):\n",
    "    return _NumberOfCells[matlab_index-1]"
   ]
  },
  {
   "cell_type": "code",
   "execution_count": null,
   "metadata": {
    "extensions": {
     "jupyter_dashboards": {
      "version": 1,
      "views": {
       "grid_default": {
        "col": null,
        "height": 20,
        "hidden": false,
        "row": 19,
        "width": null
       },
       "report_default": {
        "hidden": false
       }
      }
     }
    },
    "hide_input": false
   },
   "outputs": [],
   "source": [
    "def create_graph(data_frame, title, x_axis_title, colors=None, lineWidths=None, show_legend=True, names=None):\n",
    "    if not names:\n",
    "        names = data_frame.columns\n",
    "    if not lineWidths:\n",
    "        lineWidths = [2] * (data_frame.columns.size-1)\n",
    "    if colors:\n",
    "        data = [        \n",
    "            go.Scatter(\n",
    "                x=data_frame[data_frame.columns[0]],\n",
    "                y=data_frame[data_frame.columns[i]], \n",
    "                opacity=0.5,                        \n",
    "                name=names[i-1],\n",
    "                marker=dict(\n",
    "                    color=colors[i-1]\n",
    "                ),\n",
    "                line = dict(\n",
    "                    color = colors[i-1],\n",
    "                    width = lineWidths[i-1],\n",
    "                )\n",
    "            ) for i in range(1,data_frame.columns.size)\n",
    "        ]\n",
    "    else:\n",
    "        data = [        \n",
    "            go.Scatter(\n",
    "                x=data_frame[data_frame.columns[0]],\n",
    "                y=data_frame[data_frame.columns[i]], \n",
    "                opacity=0.5,                        \n",
    "                name=names[i-1],\n",
    "            ) for i in range(1,data_frame.columns.size)\n",
    "        ]\n",
    "\n",
    "    layout = go.Layout(\n",
    "        title=title, \n",
    "        showlegend=show_legend,\n",
    "        xaxis=dict(\n",
    "            title=x_axis_title\n",
    "        ),\n",
    "        yaxis=dict(\n",
    "            #range=[0,.5]    \n",
    "        ))\n",
    "    fig = go.Figure(data=data, layout=layout)\n",
    "    offline.iplot(fig, config={\"displayModeBar\": False})"
   ]
  },
  {
   "cell_type": "code",
   "execution_count": null,
   "metadata": {
    "hide_input": false
   },
   "outputs": [],
   "source": [
    "title=\"Heart Rate(r)\"\n",
    "heart_axis_colums = [0,1,2,3,5]\n",
    "heart_rate_data = outputController.filter(items=[outputController.columns[i] for i in heart_axis_colums])\n",
    "heart_rate_data[heart_rate_data.columns[3]] = heart_rate_data[heart_rate_data.columns[3]].apply(lambda x: x/0.0008)\n",
    "heart_rate_data[heart_rate_data.columns[4]] = heart_rate_data[heart_rate_data.columns[4]].apply(lambda x: x*-1.0/0.0008)\n",
    "colors = [\"magenta\", \"black\", \"red\", \"blue\"]\n",
    "create_graph(data_frame=heart_rate_data, \n",
    "             title=title, \n",
    "             colors=colors,\n",
    "             x_axis_title=\"\\u03C4(sec)\")"
   ]
  },
  {
   "cell_type": "code",
   "execution_count": null,
   "metadata": {
    "hide_input": false
   },
   "outputs": [],
   "source": [
    "title = \"Parasympathetic Cell Activity: Cardiac Level\"\n",
    "FirstParasympathetic=500-1\n",
    "start_index = FirstCellPosition+0*TotalNumberOfCells+FirstParasympathetic\n",
    "final_index = FirstCellPosition+0*TotalNumberOfCells+NumberOfCells(1)-1\n",
    "parasympathetic_cell_activity_columns = [0]\n",
    "parasympathetic_cell_activity_columns.extend(range(start_index, final_index))\n",
    "parasympathetic_cell_activity_data = outputController.filter(items=[outputController.columns[i] for i in parasympathetic_cell_activity_columns])\n",
    "create_graph(data_frame=parasympathetic_cell_activity_data, \n",
    "             title=title, x_axis_title=\"time(sec)\", show_legend=False,\n",
    "            colors=[\"blue\"]*(len(parasympathetic_cell_activity_columns)-1))"
   ]
  },
  {
   "cell_type": "code",
   "execution_count": null,
   "metadata": {
    "hide_input": false
   },
   "outputs": [],
   "source": [
    "title = \"Cell Activity: Cardiac(r), Intrathoracic(g), Central(b)\"\n",
    "cell_activity_columns = [0]\n",
    "# cardiac\n",
    "start_index = FirstCellPosition+0*TotalNumberOfCells\n",
    "final_index = FirstCellPosition+0*TotalNumberOfCells+NumberOfCells(1)-1\n",
    "cell_activity_columns.extend(range(start_index, final_index))\n",
    "colors = [\"red\"]*(final_index - start_index)\n",
    "# intrathoracic\n",
    "start_index = FirstCellPosition+0*TotalNumberOfCells+NumberOfCells(1)\n",
    "final_index = FirstCellPosition+0*TotalNumberOfCells+NumberOfCells(1)+NumberOfCells(2)-1\n",
    "cell_activity_columns.extend(range(start_index, final_index))\n",
    "colors.extend([\"green\"]*(final_index - start_index))\n",
    "# central\n",
    "start_index = FirstCellPosition+0*TotalNumberOfCells+NumberOfCells(1)+NumberOfCells(2)\n",
    "final_index = FirstCellPosition+0*TotalNumberOfCells+NumberOfCells(1)+NumberOfCells(2)+NumberOfCells(3)-1\n",
    "cell_activity_columns.extend(range(start_index, final_index))\n",
    "colors.extend([\"blue\"]*(final_index - start_index))\n",
    "\n",
    "cell_activity_data = outputController.filter(items=[outputController.columns[i] for i in cell_activity_columns])\n",
    "create_graph(data_frame=cell_activity_data, \n",
    "             title=title, x_axis_title=\"time(sec)\", show_legend=False,\n",
    "            colors=colors)"
   ]
  },
  {
   "cell_type": "code",
   "execution_count": null,
   "metadata": {},
   "outputs": [],
   "source": [
    "title = \"Heart Throughput: Cardiac(r), Intrathoracic(g), Central(b)\"\n",
    "heart_throughput_columns = [0]\n",
    "# cardiac\n",
    "start_index = FirstCellPosition+1*TotalNumberOfCells\n",
    "final_index = FirstCellPosition+1*TotalNumberOfCells+NumberOfCells(1)-1\n",
    "heart_throughput_columns.extend(range(start_index, final_index))\n",
    "colors = [\"red\"]*(final_index - start_index)\n",
    "# intrathoracic\n",
    "start_index = FirstCellPosition+1*TotalNumberOfCells+NumberOfCells(1)\n",
    "final_index = FirstCellPosition+1*TotalNumberOfCells+NumberOfCells(1)+NumberOfCells(2)-1\n",
    "heart_throughput_columns.extend(range(start_index, final_index))\n",
    "colors.extend([\"green\"]*(final_index - start_index))\n",
    "# central\n",
    "start_index = FirstCellPosition+1*TotalNumberOfCells+NumberOfCells(1)+NumberOfCells(2)\n",
    "final_index = FirstCellPosition+1*TotalNumberOfCells+NumberOfCells(1)+NumberOfCells(2)+NumberOfCells(3)-1\n",
    "heart_throughput_columns.extend(range(start_index, final_index))\n",
    "colors.extend([\"blue\"]*(final_index - start_index))\n",
    "\n",
    "data = outputController.filter(items=[outputController.columns[i] for i in heart_throughput_columns])\n",
    "create_graph(data_frame=data, \n",
    "             title=title, x_axis_title=\"time(sec)\", show_legend=False,\n",
    "            colors=colors)"
   ]
  },
  {
   "cell_type": "code",
   "execution_count": null,
   "metadata": {},
   "outputs": [],
   "source": [
    "title = \"Blood Throughput: Cardiac(r), Intrathoracic(g), Central(b)\"\n",
    "blood_throughput_columns = [0]\n",
    "# cardiac\n",
    "start_index = FirstCellPosition+2*TotalNumberOfCells\n",
    "final_index = FirstCellPosition+2*TotalNumberOfCells+NumberOfCells(1)-1\n",
    "blood_throughput_columns.extend(range(start_index, final_index))\n",
    "colors = [\"red\"]*(final_index - start_index)\n",
    "# intrathoracic\n",
    "start_index = FirstCellPosition+2*TotalNumberOfCells+NumberOfCells(1)\n",
    "final_index = FirstCellPosition+2*TotalNumberOfCells+NumberOfCells(1)+NumberOfCells(2)-1\n",
    "blood_throughput_columns.extend(range(start_index, final_index))\n",
    "colors.extend([\"green\"]*(final_index - start_index))\n",
    "# central\n",
    "start_index = FirstCellPosition+2*TotalNumberOfCells+NumberOfCells(1)+NumberOfCells(2)\n",
    "final_index = FirstCellPosition+2*TotalNumberOfCells+NumberOfCells(1)+NumberOfCells(2)+NumberOfCells(3)-1\n",
    "blood_throughput_columns.extend(range(start_index, final_index))\n",
    "colors.extend([\"blue\"]*(final_index - start_index))\n",
    "\n",
    "data = outputController.filter(items=[outputController.columns[i] for i in blood_throughput_columns])\n",
    "create_graph(data_frame=data, \n",
    "             title=title, x_axis_title=\"time(sec)\", show_legend=False,\n",
    "            colors=colors)"
   ]
  },
  {
   "cell_type": "code",
   "execution_count": null,
   "metadata": {},
   "outputs": [],
   "source": [
    "#carpet plot full network data set\n",
    "import math\n",
    "def fix(value):\n",
    "    if value > 0:\n",
    "        return math.floor(value)\n",
    "    return math.ceil(value)\n",
    "\n",
    "title = \"Cell Activity Level, Heart and Blood Throughput {layersnumber} Layers and {cellsperlayer} Cells per Layer'\".format(layersnumber=NumberOfLayers, cellsperlayer=\" \".join(map(str,_NumberOfCells)))\n",
    "carpet_plot_columns = [0]\n",
    "start_index = FirstCellPosition\n",
    "final_index = FirstCellPosition+TotalNumberOfCells-1\n",
    "carpet_plot_columns.extend(range(start_index, final_index))\n",
    "\n",
    "# this does not work with plotly, too much memory involved here\n",
    "f = lambda x: 50.0*fix(x)\n",
    "data_scaled = outputController.filter(items=[outputController.columns[i] for i in range(start_index, final_index)]).applymap(f)\n",
    "data = [   \n",
    "    \n",
    "        go.Scattergl(\n",
    "            x=outputController[outputController.columns[0]],\n",
    "            y=[i] * data_scaled.columns.size, \n",
    "            opacity=0.5,                        \n",
    "            name=data_scaled.columns[i],\n",
    "            mode='markers',\n",
    "            marker=dict(\n",
    "                size=1,\n",
    "                color = data_scaled[data_scaled.columns[i]], #set color equal to a variable\n",
    "                colorscale='Greys',\n",
    "                showscale=True\n",
    "            )\n",
    "        ) for i in range(0,data_scaled.columns.size)\n",
    "    ]\n",
    "\n",
    "layout = go.Layout(\n",
    "    title=title, \n",
    "    showlegend=False,\n",
    "    xaxis=dict(\n",
    "        title=None\n",
    "    ),\n",
    "    yaxis=dict(\n",
    "        #range=[0,.5]    \n",
    "    ))\n",
    "fig = go.Figure(data=data, layout=layout)\n",
    "offline.iplot(fig, config={\"displayModeBar\": False})\n"
   ]
  },
  {
   "cell_type": "code",
   "execution_count": null,
   "metadata": {},
   "outputs": [],
   "source": [
    "#plot layer average neighbour importance (repeated on next figure)\n",
    "title = \"Relative Weight in Hierarchy\"\n",
    "average_neighbour_importance_columns = [0]\n",
    "start_index = ncols-1-2*NumberOfLayers-NumberOfLayers-1\n",
    "final_index = ncols-1-2*NumberOfLayers-1\n",
    "average_neighbour_importance_columns.extend(range(start_index, final_index))\n",
    "\n",
    "colors = [\"rgb({r}, {g}, {b})\".format(r=255.0*(1 - i/NumberOfLayers), g=255.0*abs(.5-i/NumberOfLayers), b=255.0*abs(.25-i/NumberOfLayers)) for i in range(1, final_index-start_index + 1)]\n",
    "lineWidth = [2 + 2 * i/NumberOfLayers for i in range(1, final_index-start_index + 1)]\n",
    "\n",
    "names = ['Cardiac','Intrathoracic','Central']\n",
    "data = outputController.filter(items=[outputController.columns[i] for i in average_neighbour_importance_columns])\n",
    "data.iloc[:,1:] = data.iloc[:,1:].div(outputController.iloc[:,ncols-1], axis=0)\n",
    "create_graph(data_frame=data, \n",
    "             title=title, x_axis_title=\"time(sec)\", show_legend=True,\n",
    "            colors=colors,\n",
    "            lineWidths=lineWidth,\n",
    "            names=names)"
   ]
  },
  {
   "cell_type": "code",
   "execution_count": null,
   "metadata": {
    "hide_input": false
   },
   "outputs": [],
   "source": [
    "# plot layer neighbour importance standard deviation (shifted by +1 from\n",
    "# previous graph which plots the layer neighbour importance average\n",
    "title = \"Layer: Neighbour Importance Standard Deviation\"\n",
    "average_neighbour_importance_std_columns = [0]\n",
    "start_index = ncols-1-2*NumberOfLayers+1-1\n",
    "final_index = ncols-1-1+1\n",
    "average_neighbour_importance_std_columns.extend(range(start_index, final_index, 2))\n",
    "\n",
    "colors = [\"rgb({r}, {g}, {b})\".format(r=255.0*(1 - i/2.0/NumberOfLayers), g=255.0*(1 - i/2.0/NumberOfLayers), b=255.0*(1 - i/2.0/NumberOfLayers)) for i in range(1, final_index-start_index, 2)]\n",
    "lineWidth = [1 + 2 * i/NumberOfLayers for i in range(1, final_index-start_index, 2)]\n",
    "names = ['Cardiac','Intrathoracic','Central']\n",
    "data = outputController.filter(items=[outputController.columns[i] for i in average_neighbour_importance_std_columns])\n",
    "create_graph(data_frame=data, \n",
    "             title=title, x_axis_title=\"time(sec)\", show_legend=True,\n",
    "            colors=colors,\n",
    "            lineWidths=lineWidth,\n",
    "            names=names)"
   ]
  }
 ],
 "metadata": {
  "extensions": {
   "jupyter_dashboards": {
    "activeView": "grid_default",
    "version": 1,
    "views": {
     "grid_default": {
      "cellMargin": 10,
      "defaultCellHeight": 20,
      "maxColumns": 12,
      "name": "grid",
      "type": "grid"
     },
     "report_default": {
      "name": "report",
      "type": "report"
     }
    }
   }
  },
  "kernelspec": {
   "display_name": "Python 3",
   "language": "python",
   "name": "python3"
  },
  "language_info": {
   "codemirror_mode": {
    "name": "ipython",
    "version": 3
   },
   "file_extension": ".py",
   "mimetype": "text/x-python",
   "name": "python",
   "nbconvert_exporter": "python",
   "pygments_lexer": "ipython3",
   "version": "3.6.4"
  }
 },
 "nbformat": 4,
 "nbformat_minor": 2
}
