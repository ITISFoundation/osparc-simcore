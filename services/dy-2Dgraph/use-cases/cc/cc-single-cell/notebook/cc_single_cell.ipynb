{
 "cells": [
  {
   "cell_type": "code",
   "execution_count": 33,
   "metadata": {
    "hideoutput": true,
    "init_cell": true
   },
   "outputs": [
    {
     "data": {
      "text/html": [
       "<script>\n",
       "code_show=true; \n",
       "function code_toggle() {\n",
       " if (code_show){\n",
       " $('div.input').hide();\n",
       " } else {\n",
       " $('div.input').show();\n",
       " }\n",
       " code_show = !code_show\n",
       "} \n",
       "$( document ).ready(code_toggle);\n",
       "</script>\n",
       "<form action=\"javascript:code_toggle()\"><input type=\"submit\" value=\"Click here to toggle on/off the raw code.\"></form>"
      ],
      "text/plain": [
       "<IPython.core.display.HTML object>"
      ]
     },
     "execution_count": 33,
     "metadata": {},
     "output_type": "execute_result"
    }
   ],
   "source": [
    "from IPython.display import HTML\n",
    "\n",
    "HTML('''<script>\n",
    "code_show=true; \n",
    "function code_toggle() {\n",
    " if (code_show){\n",
    " $('div.input').hide();\n",
    " } else {\n",
    " $('div.input').show();\n",
    " }\n",
    " code_show = !code_show\n",
    "} \n",
    "$( document ).ready(code_toggle);\n",
    "</script>\n",
    "<form action=\"javascript:code_toggle()\"><input type=\"submit\" value=\"Click here to toggle on/off the raw code.\"></form>''')"
   ]
  },
  {
   "cell_type": "code",
   "execution_count": null,
   "metadata": {
    "hide_input": true
   },
   "outputs": [],
   "source": [
    "%%javascript\n",
    "$('#menubar').hide();"
   ]
  },
  {
   "cell_type": "code",
   "execution_count": null,
   "metadata": {
    "extensions": {},
    "hide_input": true,
    "init_cell": true
   },
   "outputs": [],
   "source": [
    "import os"
   ]
  },
  {
   "cell_type": "code",
   "execution_count": null,
   "metadata": {
    "extensions": {},
    "hide_input": true,
    "init_cell": true
   },
   "outputs": [],
   "source": [
    "import plotly.offline as offline\n",
    "import plotly.figure_factory as ff\n",
    "import plotly.graph_objs as go\n",
    "from plotly import tools\n",
    "offline.init_notebook_mode(connected=True)\n",
    "\n",
    "SLICING = 10\n",
    "\n",
    "def create_graphs(data_frames, **kwargs):\n",
    "    data = [        \n",
    "            go.Scatter(\n",
    "                x=data_frames[df_index].iloc[0::SLICING,0],\n",
    "                y=data_frames[df_index].iloc[0::SLICING,i],\n",
    "                #opacity=1, \n",
    "                xaxis=(\"x\" + str(df_index + 1)),\n",
    "                yaxis=(\"y\" + str(df_index + 1)),\n",
    "                name=str(data_frames[df_index].columns[i])\n",
    "            ) for df_index in range(0, len(data_frames)) \n",
    "            for i in range(1,data_frames[df_index].columns.size)\n",
    "    ]\n",
    "    \n",
    "    layout = go.Layout(**kwargs)\n",
    "    fig = go.Figure(data=data, layout=layout)\n",
    "    offline.iplot(fig, config={\"displayModeBar\": False, \"showLink\":False})\n",
    "\n",
    "def create_graph(data_frame, title=None, x_axis_title=None, y_axis_title = None):\n",
    "    data = [        \n",
    "            go.Scatter(\n",
    "                x=data_frame.iloc[0::SLICING,0],\n",
    "                y=data_frame.iloc[0::SLICING,i],\n",
    "                #opacity=1,\n",
    "                name=str(data_frame.columns[i])\n",
    "            ) \n",
    "            for i in range(1,data_frame.columns.size)\n",
    "            \n",
    "    ]\n",
    "    \n",
    "    #fig = tools.make_subplots(rows=1, cols=len(data_frames))\n",
    "    layout = go.Layout(\n",
    "        title=title,         \n",
    "        showlegend=False,\n",
    "        xaxis=dict(\n",
    "            title=x_axis_title\n",
    "        ),\n",
    "        yaxis=dict(\n",
    "            title=y_axis_title\n",
    "        )        \n",
    "    )\n",
    "    fig = go.Figure(data=data, layout=layout)\n",
    "    offline.iplot(fig, config={\"displayModeBar\": False, \"showLink\":False})"
   ]
  },
  {
   "cell_type": "code",
   "execution_count": null,
   "metadata": {
    "extensions": {},
    "hide_input": true,
    "init_cell": true
   },
   "outputs": [],
   "source": [
    "from simcore_sdk import node_ports\n",
    "PORTS = node_ports.ports()"
   ]
  },
  {
   "cell_type": "code",
   "execution_count": null,
   "metadata": {
    "extensions": {},
    "hide_input": true,
    "init_cell": true
   },
   "outputs": [],
   "source": [
    "# from plotall.m\n",
    "\n",
    "import pandas as pd\n",
    "\n",
    "data_path_ty = await PORTS.inputs[0].get()\n",
    "data_frame_ty = pd.read_csv(data_path_ty, sep='\\t', header=None)\n",
    "\n",
    "# scale time\n",
    "f = lambda x: x/1000.0\n",
    "data_frame_ty[0] = data_frame_ty[0].apply(f)\n",
    "syids = 9\n",
    "yids = [30, 31, 32, 33, 34, 36, 37, 38, 39]\n",
    "ynid = [0] * 206\n",
    "for id in range(1,syids):\n",
    "    ynid[yids[id]] = id\n",
    "\n",
    "data_path_ar = await PORTS.inputs[1].get()\n",
    "data_frame_ar = pd.read_csv(data_path_ar, sep='\\t', header=None)\n",
    "\n",
    "tArray = 1\n",
    "I_Ca_store = 2\n",
    "Ito = 3\n",
    "Itof = 4\n",
    "Itos = 5\n",
    "INa = 6\n",
    "IK1 = 7\n",
    "s1 = 8\n",
    "k1 = 9\n",
    "Jserca = 10\n",
    "Iks = 11\n",
    "Ikr = 12\n",
    "Jleak = [13,14]\n",
    "ICFTR = 15\n",
    "Incx = 16"
   ]
  },
  {
   "cell_type": "code",
   "execution_count": null,
   "metadata": {
    "extensions": {},
    "hide_input": true,
    "init_cell": true
   },
   "outputs": [],
   "source": [
    "# membrane potential\n",
    "title=\"Membrane Potential\"\n",
    "axis_colums = [0,ynid[39]+1]\n",
    "plot_0 = data_frame_ty.filter(items=[data_frame_ty.columns[i] for i in axis_colums])\n",
    "create_graph(data_frame=plot_0, \n",
    "             x_axis_title=\"time (sec)\",\n",
    "             y_axis_title=title)"
   ]
  },
  {
   "cell_type": "code",
   "execution_count": null,
   "metadata": {
    "extensions": {},
    "hide_input": true,
    "init_cell": true
   },
   "outputs": [],
   "source": [
    "# LCC current (ICa)\n",
    "title=\"I<sub>Ca</sub> (pA/pF)\"\n",
    "axis_colums = [0,I_Ca_store-1]\n",
    "plot_1 = data_frame_ar.filter(items=[data_frame_ar.columns[i] for i in axis_colums])\n",
    "create_graph(data_frame=plot_1, \n",
    "             x_axis_title=\"time (sec)\",\n",
    "             y_axis_title=title)\n"
   ]
  },
  {
   "cell_type": "code",
   "execution_count": null,
   "metadata": {
    "extensions": {},
    "hide_input": true,
    "init_cell": true
   },
   "outputs": [],
   "source": [
    "# CaSRT & Caj\n",
    "data_frame_casrt = data_frame_ty.filter(items=[data_frame_ty.columns[0], data_frame_ty.columns[ynid[30]+1], data_frame_ty.columns[ynid[31]+1]])\n",
    "data_frame_casrt[3] = data_frame_casrt[1] + data_frame_casrt[2]\n",
    "plot_2 = data_frame_casrt.filter(items=[data_frame_casrt.columns[0], data_frame_casrt.columns[3]])\n",
    "plot_data = [plot_2]\n",
    "\n",
    "# \n",
    "g = lambda x: x*1000.0\n",
    "axis_colums = [0,ynid[36]+1]\n",
    "data_frame_ty[ynid[36]+1] = data_frame_ty[ynid[36]+1].apply(g)\n",
    "plot_3 = data_frame_ty.filter(items=[data_frame_ty.columns[i] for i in axis_colums])\n",
    "plot_data.append(plot_3)\n",
    "\n",
    "axis_colums = [0,ynid[37]+1]\n",
    "plot_4 = data_frame_ty.filter(items=[data_frame_ty.columns[i] for i in axis_colums])\n",
    "plot_data.append(plot_4)\n",
    "create_graphs(data_frames=plot_data, \n",
    "              title=None, \n",
    "              showlegend=False,\n",
    "              xaxis=dict(\n",
    "                  domain=[0,0.3],\n",
    "                  title=\"time (sec)\"\n",
    "              ),\n",
    "              xaxis2=dict(\n",
    "                  domain=[0.4,0.6],\n",
    "                  title=\"time (sec)\"),\n",
    "              xaxis3=dict(\n",
    "                  domain=[0.7,1.0],\n",
    "                  title=\"time (sec)\"),\n",
    "              yaxis=dict(\n",
    "                  title=\"[Ca]<sub>SRT</sub> (mM)\"\n",
    "              ),\n",
    "              yaxis2=dict(\n",
    "                  title=\"Ca Dyad (\\u00B5M)\", \n",
    "                  anchor=\"x2\"),\n",
    "              yaxis3=dict(\n",
    "                  title=\"Ca sl (mM)\", \n",
    "                  anchor=\"x3\")\n",
    "             )"
   ]
  },
  {
   "cell_type": "code",
   "execution_count": null,
   "metadata": {
    "extensions": {},
    "hide_input": true,
    "init_cell": true
   },
   "outputs": [],
   "source": [
    "# Cai\n",
    "title=\"[Ca]<sub>i</sub> (\\u00B5M)\"\n",
    "axis_colums = [0,ynid[38]+1]\n",
    "plot_5 = data_frame_ty.filter(items=[data_frame_ty.columns[i] for i in axis_colums])\n",
    "create_graph(data_frame=plot_5, \n",
    "             title=None, \n",
    "             x_axis_title=\"time (sec)\",\n",
    "             y_axis_title=title)"
   ]
  },
  {
   "cell_type": "code",
   "execution_count": null,
   "metadata": {
    "extensions": {},
    "hide_input": true,
    "init_cell": true
   },
   "outputs": [],
   "source": [
    "# Ito\n",
    "title=\"I<sub>to</sub> (pA/pF)\"\n",
    "axis_colums = [0,Ito-1]\n",
    "plot_6 = data_frame_ar.filter(items=[data_frame_ar.columns[i] for i in axis_colums])\n",
    "create_graph(data_frame=plot_6, \n",
    "             title=None, \n",
    "             x_axis_title=\"time (sec)\",\n",
    "             y_axis_title=title)\n"
   ]
  },
  {
   "cell_type": "code",
   "execution_count": null,
   "metadata": {
    "extensions": {},
    "hide_input": true,
    "init_cell": true
   },
   "outputs": [],
   "source": [
    "# INa\n",
    "title=\"I<sub>Na</sub> (pA/pF)\"\n",
    "axis_colums = [0,INa-1]\n",
    "plot_7 = data_frame_ar.filter(items=[data_frame_ar.columns[i] for i in axis_colums])\n",
    "create_graph(data_frame=plot_7, \n",
    "             title=None, \n",
    "             x_axis_title=\"time (sec)\",\n",
    "             y_axis_title=title)\n"
   ]
  },
  {
   "cell_type": "code",
   "execution_count": null,
   "metadata": {
    "extensions": {},
    "hide_input": true,
    "init_cell": true
   },
   "outputs": [],
   "source": [
    "# IKs and ICFTR\n",
    "axis_colums = [0,Iks-1]\n",
    "plot_8 = data_frame_ar.filter(items=[data_frame_ar.columns[i] for i in axis_colums])\n",
    "plot_data = [plot_8]\n",
    "\n",
    "axis_colums = [0,ICFTR-1]\n",
    "plot_9 = data_frame_ar.filter(items=[data_frame_ar.columns[i] for i in axis_colums])\n",
    "plot_data.append(plot_9)\n",
    "\n",
    "create_graphs(data_frames=plot_data, \n",
    "              title=None, \n",
    "              showlegend=False,\n",
    "              #xaxis=dict(title=\"time (sec)\"),\n",
    "              xaxis2=dict(title=\"time (sec)\", anchor=\"y2\"),\n",
    "              yaxis=dict(\n",
    "                  domain=[0.6,1.0],\n",
    "                  title=\"I<sub>Ks</sub> (pA/pF)\"\n",
    "              ),\n",
    "              yaxis2=dict(\n",
    "                  domain=[0,0.5],\n",
    "                  title=\"I<sub>CFTR</sub>\", \n",
    "                  anchor=\"x2\")\n",
    "             )"
   ]
  },
  {
   "cell_type": "code",
   "execution_count": null,
   "metadata": {
    "extensions": {},
    "hide_input": true,
    "init_cell": true
   },
   "outputs": [],
   "source": [
    "# IKr and IK1\n",
    "axis_colums = [0,Ikr-1]\n",
    "plot_10 = data_frame_ar.filter(items=[data_frame_ar.columns[i] for i in axis_colums])\n",
    "plot_data = [plot_10]\n",
    "\n",
    "axis_colums = [0,IK1-1]\n",
    "plot_11 = data_frame_ar.filter(items=[data_frame_ar.columns[i] for i in axis_colums])\n",
    "plot_data.append(plot_11)\n",
    "\n",
    "create_graphs(data_frames=plot_data, \n",
    "              title=None, \n",
    "              showlegend=False,\n",
    "              #xaxis=dict(title=\"time (sec)\"),\n",
    "              xaxis2=dict(title=\"time (sec)\", anchor=\"y2\"),\n",
    "              yaxis=dict(\n",
    "                  domain=[0.6,1.0],\n",
    "                  title=\"I<sub>Kr</sub> (pA/pF)\"\n",
    "              ),\n",
    "              yaxis2=dict(\n",
    "                  domain=[0,0.5],\n",
    "                  title=\"I<sub>K1</sub> (pA/pF)\", \n",
    "                  anchor=\"x2\")\n",
    "             )"
   ]
  },
  {
   "cell_type": "code",
   "execution_count": null,
   "metadata": {
    "extensions": {},
    "hide_input": true,
    "init_cell": true
   },
   "outputs": [],
   "source": [
    "# [Na]\n",
    "axis_colums = [0,ynid[32]+1]\n",
    "plot_12 = data_frame_ty.filter(items=[data_frame_ty.columns[i] for i in axis_colums])\n",
    "plot_data = [plot_12]\n",
    "\n",
    "axis_colums = [0,ynid[33]+1]\n",
    "plot_13 = data_frame_ty.filter(items=[data_frame_ty.columns[i] for i in axis_colums])\n",
    "plot_data.append(plot_13)\n",
    "\n",
    "axis_colums = [0,ynid[34]+1]\n",
    "plot_14 = data_frame_ty.filter(items=[data_frame_ty.columns[i] for i in axis_colums])\n",
    "plot_data.append(plot_14)\n",
    "\n",
    "create_graphs(data_frames=plot_data, \n",
    "              title=None, \n",
    "              showlegend=False,\n",
    "              xaxis=dict(title=\"time (sec)\", domain=[0,0.3]),\n",
    "              xaxis2=dict(title=\"time (sec)\", domain=[0.4,0.6]),\n",
    "              xaxis3=dict(title=\"time (sec)\", domain=[0.7,1.0]),\n",
    "              yaxis=dict(\n",
    "                  title=\"[Na]<sub>j</sub>\"\n",
    "              ),\n",
    "              yaxis2=dict(\n",
    "                  title=\"[Na]<sub>s<sup>l</sup></sub>\", \n",
    "                  anchor=\"x2\"),\n",
    "              yaxis3=dict(\n",
    "                  title=\"[Na]<sub>i</sub> (mmol/L relevant compartment\", \n",
    "                  anchor=\"x3\")\n",
    "             )"
   ]
  },
  {
   "cell_type": "code",
   "execution_count": null,
   "metadata": {
    "extensions": {},
    "hide_input": true,
    "init_cell": true
   },
   "outputs": [],
   "source": [
    "# I_NCX\n",
    "title=\"I<sub>NCX</sub> (pA/pF)\"\n",
    "axis_colums = [0,Incx-1]\n",
    "plot_15 = data_frame_ar.filter(items=[data_frame_ar.columns[i] for i in axis_colums])\n",
    "create_graph(data_frame=plot_15, \n",
    "             title=None, \n",
    "             x_axis_title=\"time (sec)\",\n",
    "             y_axis_title=title)\n"
   ]
  },
  {
   "cell_type": "code",
   "execution_count": null,
   "metadata": {
    "extensions": {},
    "hide_input": true,
    "init_cell": true
   },
   "outputs": [],
   "source": [
    "# RyR fluxes\n",
    "axis_colums = [0,Jleak[0]-1]\n",
    "plot_16 = data_frame_ar.filter(items=[data_frame_ar.columns[i] for i in axis_colums])\n",
    "plot_data = [plot_16]\n",
    "\n",
    "axis_colums = [0,Jleak[1]-1]\n",
    "plot_17 = data_frame_ar.filter(items=[data_frame_ar.columns[i] for i in axis_colums])\n",
    "plot_data.append(plot_17)\n",
    "\n",
    "plot_18 = data_frame_ar.filter(items=[data_frame_ar.columns[0]])\n",
    "plot_18[1] = data_frame_ar[Jleak[0]-1] - data_frame_ar[Jleak[1]-1]\n",
    "plot_data.append(plot_18)\n",
    "create_graphs(data_frames=plot_data, \n",
    "              title=None, \n",
    "              showlegend=False,\n",
    "              xaxis=dict(title=None),\n",
    "              xaxis2=dict(title=None),\n",
    "              xaxis3=dict(title=\"time (sec)\", anchor=\"y3\"),\n",
    "              yaxis=dict(\n",
    "                  domain=[0.7,1.0],\n",
    "                  title=\"JRyR<sub>tot</sub>\"\n",
    "              ),\n",
    "              yaxis2=dict(\n",
    "                  domain=[0.4,0.6],\n",
    "                  title=\"Passive Leak\", \n",
    "                  anchor=\"x2\"),\n",
    "              yaxis3=dict(\n",
    "                  domain=[0,0.3],\n",
    "                  title=\"SR Ca release\", \n",
    "                  anchor=\"x3\")\n",
    "             )"
   ]
  },
  {
   "cell_type": "code",
   "execution_count": null,
   "metadata": {
    "extensions": {},
    "hide_input": true,
    "init_cell": true
   },
   "outputs": [],
   "source": [
    "# Export data to CSV\n",
    "import csv_adapter\n",
    "await csv_adapter.pandas_dataframe_to_csv(plot_0, \"Membrane Potential\", [\"time (sec)\", \"Membrane Potential\"], 0)\n",
    "await csv_adapter.pandas_dataframe_to_csv(plot_1, \"I_ca\", [\"time(sec)\", \"I_ca(pA/pF)\"], 1)\n",
    "await csv_adapter.pandas_dataframe_to_csv(plot_2, \"Ca_SRT\", [\"time(sec)\", \"Ca_SRT(mM)\"], 2)\n",
    "await csv_adapter.pandas_dataframe_to_csv(plot_3, \"Ca_Dyad\", [\"time (sec)\", \"Ca_Dyad(uM)\"], 3)\n",
    "await csv_adapter.pandas_dataframe_to_csv(plot_4, \"Ca_sl\", [\"time (sec)\", \"Ca_sl(mM)\"], 4)\n",
    "await csv_adapter.pandas_dataframe_to_csv(plot_5, \"Ca_i\", [\"time (sec)\", \"Ca_i(uM)\"], 5)\n",
    "await csv_adapter.pandas_dataframe_to_csv(plot_6, \"I_to\", [\"time (sec)\", \"I_to(pA/pF)\"], 6)\n",
    "await csv_adapter.pandas_dataframe_to_csv(plot_7, \"I_Na\", [\"time (sec)\", \"I_to(pA/pF)\"], 7)\n",
    "await csv_adapter.pandas_dataframe_to_csv(plot_8, \"I_Ks\", [\"time (sec)\", \"I_Ks(pA/pF)\"], 8)\n",
    "await csv_adapter.pandas_dataframe_to_csv(plot_9, \"I_CFTR\", [\"time (sec)\", \"I_Ks\"], 9)\n",
    "await csv_adapter.pandas_dataframe_to_csv(plot_10, \"I_Kr\", [\"time (sec)\", \"I_Kr(pA/pF)\"], 10)\n",
    "await csv_adapter.pandas_dataframe_to_csv(plot_11, \"I_K1\", [\"time (sec)\", \"I_K1(pA/pF)\"], 11)\n",
    "await csv_adapter.pandas_dataframe_to_csv(plot_12, \"Na_j\", [\"time (sec)\", \"Na_j\"], 12)\n",
    "await csv_adapter.pandas_dataframe_to_csv(plot_13, \"Na_s\", [\"time (sec)\", \"Na_s\"], 13)\n",
    "await csv_adapter.pandas_dataframe_to_csv(plot_14, \"Na_i\", [\"time (sec)\", \"Na_i(mmol/L)\"], 14)\n",
    "await csv_adapter.pandas_dataframe_to_csv(plot_15, \"I_NCX\", [\"time (sec)\", \"I_NCX(pA/pF)\"], 15)\n",
    "await csv_adapter.pandas_dataframe_to_csv(plot_16, \"JRyR_tot\", [\"time (sec)\", \"JRyR_tot\"], 16)\n",
    "await csv_adapter.pandas_dataframe_to_csv(plot_17, \"Passive_Leak\", [\"time (sec)\", \"Passive_Leak\"], 17)\n",
    "await csv_adapter.pandas_dataframe_to_csv(plot_18, \"SR_Ca_realease\", [\"time (sec)\", \"SR_Ca_realease\"], 18)\n"
   ]
  }
 ],
 "metadata": {
  "celltoolbar": "Initialization Cell",
  "extensions": {},
  "kernelspec": {
   "display_name": "Python 3",
   "language": "python",
   "name": "python3"
  },
  "language_info": {
   "codemirror_mode": {
    "name": "ipython",
    "version": 3
   },
   "file_extension": ".py",
   "mimetype": "text/x-python",
   "name": "python",
   "nbconvert_exporter": "python",
   "pygments_lexer": "ipython3",
   "version": "3.7.1"
  }
 },
 "nbformat": 4,
 "nbformat_minor": 2
}
