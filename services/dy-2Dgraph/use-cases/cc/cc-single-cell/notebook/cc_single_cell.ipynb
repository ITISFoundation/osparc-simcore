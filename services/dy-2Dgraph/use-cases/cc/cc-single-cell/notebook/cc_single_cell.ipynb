{
 "cells": [
  {
   "cell_type": "code",
   "execution_count": 33,
   "metadata": {
    "hideoutput": true,
    "init_cell": true
   },
   "outputs": [
    {
     "data": {
      "text/html": [
       "<script>\n",
       "code_show=true; \n",
       "function code_toggle() {\n",
       " if (code_show){\n",
       " $('div.input').hide();\n",
       " } else {\n",
       " $('div.input').show();\n",
       " }\n",
       " code_show = !code_show\n",
       "} \n",
       "$( document ).ready(code_toggle);\n",
       "</script>\n",
       "<form action=\"javascript:code_toggle()\"><input type=\"submit\" value=\"Click here to toggle on/off the raw code.\"></form>"
      ],
      "text/plain": [
       "<IPython.core.display.HTML object>"
      ]
     },
     "execution_count": 33,
     "metadata": {},
     "output_type": "execute_result"
    }
   ],
   "source": [
    "from IPython.display import HTML\n",
    "\n",
    "HTML('''<script>\n",
    "code_show=true; \n",
    "function code_toggle() {\n",
    " if (code_show){\n",
    " $('div.input').hide();\n",
    " } else {\n",
    " $('div.input').show();\n",
    " }\n",
    " code_show = !code_show\n",
    "} \n",
    "$( document ).ready(code_toggle);\n",
    "</script>\n",
    "<form action=\"javascript:code_toggle()\"><input type=\"submit\" value=\"Click here to toggle on/off the raw code.\"></form>''')"
   ]
  },
  {
   "cell_type": "code",
   "execution_count": null,
   "metadata": {
    "hide_input": true
   },
   "outputs": [],
   "source": [
    "%%javascript\n",
    "$('#menubar').hide();"
   ]
  },
  {
   "cell_type": "code",
   "execution_count": null,
   "metadata": {
    "extensions": {},
    "hide_input": true,
    "init_cell": true
   },
   "outputs": [],
   "source": [
    "import os"
   ]
  },
  {
   "cell_type": "code",
   "execution_count": null,
   "metadata": {
    "extensions": {},
    "hide_input": true,
    "init_cell": true
   },
   "outputs": [],
   "source": [
    "import plotly.offline as offline\n",
    "import plotly.figure_factory as ff\n",
    "import plotly.graph_objs as go\n",
    "from plotly import tools\n",
    "offline.init_notebook_mode(connected=True)\n",
    "\n",
    "SLICING = 10\n",
    "\n",
    "def create_graphs(data_frames, **kwargs):\n",
    "    data = [        \n",
    "            go.Scatter(\n",
    "                x=data_frames[df_index].iloc[0::SLICING,0],\n",
    "                y=data_frames[df_index].iloc[0::SLICING,i],\n",
    "                #opacity=1, \n",
    "                xaxis=(\"x\" + str(df_index + 1)),\n",
    "                yaxis=(\"y\" + str(df_index + 1)),\n",
    "                name=str(data_frames[df_index].columns[i])\n",
    "            ) for df_index in range(0, len(data_frames)) \n",
    "            for i in range(1,data_frames[df_index].columns.size)\n",
    "    ]\n",
    "    \n",
    "    layout = go.Layout(**kwargs)\n",
    "    fig = go.Figure(data=data, layout=layout)\n",
    "    offline.iplot(fig, config={\"displayModeBar\": False, \"showLink\":False})\n",
    "\n",
    "def create_graph(data_frame, title=None, x_axis_title=None, y_axis_title = None):\n",
    "    data = [        \n",
    "            go.Scatter(\n",
    "                x=data_frame.iloc[0::SLICING,0],\n",
    "                y=data_frame.iloc[0::SLICING,i],\n",
    "                #opacity=1,\n",
    "                name=str(data_frame.columns[i])\n",
    "            ) \n",
    "            for i in range(1,data_frame.columns.size)\n",
    "            \n",
    "    ]\n",
    "    \n",
    "    #fig = tools.make_subplots(rows=1, cols=len(data_frames))\n",
    "    layout = go.Layout(\n",
    "        title=title,         \n",
    "        showlegend=False,\n",
    "        xaxis=dict(\n",
    "            title=x_axis_title\n",
    "        ),\n",
    "        yaxis=dict(\n",
    "            title=y_axis_title\n",
    "        )        \n",
    "    )\n",
    "    fig = go.Figure(data=data, layout=layout)\n",
    "    offline.iplot(fig, config={\"displayModeBar\": False, \"showLink\":False})"
   ]
  },
  {
   "cell_type": "code",
   "execution_count": null,
   "metadata": {
    "extensions": {},
    "hide_input": true,
    "init_cell": true
   },
   "outputs": [],
   "source": [
    "from simcore_sdk import node_ports\n",
    "PORTS = node_ports.ports()"
   ]
  },
  {
   "cell_type": "code",
   "execution_count": null,
   "metadata": {
    "extensions": {},
    "hide_input": true,
    "init_cell": true
   },
   "outputs": [],
   "source": [
    "# from plotall.m\n",
    "\n",
    "import pandas as pd\n",
    "\n",
    "data_path_ty = await PORTS.inputs[0].get()\n",
    "data_frame_ty = pd.read_csv(data_path_ty, sep='\\t', header=None)\n",
    "\n",
    "# scale time\n",
    "f = lambda x: x/1000.0\n",
    "data_frame_ty[0] = data_frame_ty[0].apply(f)\n",
    "syids = 9\n",
    "yids = [30, 31, 32, 33, 34, 36, 37, 38, 39]\n",
    "ynid = [0] * 206\n",
    "for id in range(1,syids):\n",
    "    ynid[yids[id]] = id\n",
    "\n",
    "data_path_ar = await PORTS.inputs[1].get()\n",
    "data_frame_ar = pd.read_csv(data_path_ar, sep='\\t', header=None)\n",
    "\n",
    "tArray = 1\n",
    "I_Ca_store = 2\n",
    "Ito = 3\n",
    "Itof = 4\n",
    "Itos = 5\n",
    "INa = 6\n",
    "IK1 = 7\n",
    "s1 = 8\n",
    "k1 = 9\n",
    "Jserca = 10\n",
    "Iks = 11\n",
    "Ikr = 12\n",
    "Jleak = [13,14]\n",
    "ICFTR = 15\n",
    "Incx = 16"
   ]
  },
  {
   "cell_type": "code",
   "execution_count": null,
   "metadata": {
    "extensions": {},
    "hide_input": true,
    "init_cell": true
   },
   "outputs": [],
   "source": [
    "# membrane potential\n",
    "title=\"Membrane Potential\"\n",
    "axis_colums = [0,ynid[39]+1]\n",
    "plot_data = data_frame_ty.filter(items=[data_frame_ty.columns[i] for i in axis_colums])\n",
    "create_graph(data_frame=plot_data, \n",
    "             x_axis_title=\"time (sec)\",\n",
    "             y_axis_title=title)"
   ]
  },
  {
   "cell_type": "code",
   "execution_count": null,
   "metadata": {
    "extensions": {},
    "hide_input": true,
    "init_cell": true
   },
   "outputs": [],
   "source": [
    "# LCC current (ICa)\n",
    "title=\"I<sub>Ca</sub> (pA/pF)\"\n",
    "axis_colums = [0,I_Ca_store-1]\n",
    "plot_data = data_frame_ar.filter(items=[data_frame_ar.columns[i] for i in axis_colums])\n",
    "create_graph(data_frame=plot_data, \n",
    "             x_axis_title=\"time (sec)\",\n",
    "             y_axis_title=title)\n"
   ]
  },
  {
   "cell_type": "code",
   "execution_count": null,
   "metadata": {
    "extensions": {},
    "hide_input": true,
    "init_cell": true
   },
   "outputs": [],
   "source": [
    "# CaSRT & Caj\n",
    "data_frame_casrt = data_frame_ty.filter(items=[data_frame_ty.columns[0], data_frame_ty.columns[ynid[30]+1], data_frame_ty.columns[ynid[31]+1]])\n",
    "data_frame_casrt[3] = data_frame_casrt[1] + data_frame_casrt[2]\n",
    "plot_data = [data_frame_casrt.filter(items=[data_frame_casrt.columns[0], data_frame_casrt.columns[3]])]\n",
    "\n",
    "# \n",
    "g = lambda x: x*1000.0\n",
    "axis_colums = [0,ynid[36]+1]\n",
    "data_frame_ty[ynid[36]+1] = data_frame_ty[ynid[36]+1].apply(g)\n",
    "plot_data.append(data_frame_ty.filter(items=[data_frame_ty.columns[i] for i in axis_colums]))\n",
    "\n",
    "axis_colums = [0,ynid[37]+1]\n",
    "plot_data.append(data_frame_ty.filter(items=[data_frame_ty.columns[i] for i in axis_colums]))\n",
    "create_graphs(data_frames=plot_data, \n",
    "              title=None, \n",
    "              showlegend=False,\n",
    "              xaxis=dict(\n",
    "                  domain=[0,0.3],\n",
    "                  title=\"time (sec)\"\n",
    "              ),\n",
    "              xaxis2=dict(\n",
    "                  domain=[0.4,0.6],\n",
    "                  title=\"time (sec)\"),\n",
    "              xaxis3=dict(\n",
    "                  domain=[0.7,1.0],\n",
    "                  title=\"time (sec)\"),\n",
    "              yaxis=dict(\n",
    "                  title=\"[Ca]<sub>SRT</sub> (mM)\"\n",
    "              ),\n",
    "              yaxis2=dict(\n",
    "                  title=\"Ca Dyad (\\u00B5M)\", \n",
    "                  anchor=\"x2\"),\n",
    "              yaxis3=dict(\n",
    "                  title=\"Ca sl (mM)\", \n",
    "                  anchor=\"x3\")\n",
    "             )"
   ]
  },
  {
   "cell_type": "code",
   "execution_count": null,
   "metadata": {
    "extensions": {},
    "hide_input": true,
    "init_cell": true
   },
   "outputs": [],
   "source": [
    "# Cai\n",
    "title=\"[Ca]<sub>i</sub> (\\u00B5M)\"\n",
    "axis_colums = [0,ynid[38]+1]\n",
    "plot_data = data_frame_ty.filter(items=[data_frame_ty.columns[i] for i in axis_colums])\n",
    "create_graph(data_frame=plot_data, \n",
    "             title=None, \n",
    "             x_axis_title=\"time (sec)\",\n",
    "             y_axis_title=title)"
   ]
  },
  {
   "cell_type": "code",
   "execution_count": null,
   "metadata": {
    "extensions": {},
    "hide_input": true,
    "init_cell": true
   },
   "outputs": [],
   "source": [
    "# Ito\n",
    "title=\"I<sub>to</sub> (pA/pF)\"\n",
    "axis_colums = [0,Ito-1]\n",
    "plot_data = data_frame_ar.filter(items=[data_frame_ar.columns[i] for i in axis_colums])\n",
    "create_graph(data_frame=plot_data, \n",
    "             title=None, \n",
    "             x_axis_title=\"time (sec)\",\n",
    "             y_axis_title=title)\n"
   ]
  },
  {
   "cell_type": "code",
   "execution_count": null,
   "metadata": {
    "extensions": {},
    "hide_input": true,
    "init_cell": true
   },
   "outputs": [],
   "source": [
    "# INa\n",
    "title=\"I<sub>Na</sub> (pA/pF)\"\n",
    "axis_colums = [0,INa-1]\n",
    "plot_data = data_frame_ar.filter(items=[data_frame_ar.columns[i] for i in axis_colums])\n",
    "create_graph(data_frame=plot_data, \n",
    "             title=None, \n",
    "             x_axis_title=\"time (sec)\",\n",
    "             y_axis_title=title)\n"
   ]
  },
  {
   "cell_type": "code",
   "execution_count": null,
   "metadata": {
    "extensions": {},
    "hide_input": true,
    "init_cell": true
   },
   "outputs": [],
   "source": [
    "# IKs and ICFTR\n",
    "axis_colums = [0,Iks-1]\n",
    "plot_data = [data_frame_ar.filter(items=[data_frame_ar.columns[i] for i in axis_colums])]\n",
    "\n",
    "axis_colums = [0,ICFTR-1]\n",
    "plot_data.append(data_frame_ar.filter(items=[data_frame_ar.columns[i] for i in axis_colums]))\n",
    "\n",
    "create_graphs(data_frames=plot_data, \n",
    "              title=None, \n",
    "              showlegend=False,\n",
    "              #xaxis=dict(title=\"time (sec)\"),\n",
    "              xaxis2=dict(title=\"time (sec)\", anchor=\"y2\"),\n",
    "              yaxis=dict(\n",
    "                  domain=[0.6,1.0],\n",
    "                  title=\"I<sub>Ks</sub> (pA/pF)\"\n",
    "              ),\n",
    "              yaxis2=dict(\n",
    "                  domain=[0,0.5],\n",
    "                  title=\"I<sub>CFTR</sub>\", \n",
    "                  anchor=\"x2\")\n",
    "             )"
   ]
  },
  {
   "cell_type": "code",
   "execution_count": null,
   "metadata": {
    "extensions": {},
    "hide_input": true,
    "init_cell": true
   },
   "outputs": [],
   "source": [
    "# IKr and IK1\n",
    "axis_colums = [0,Ikr-1]\n",
    "plot_data = [data_frame_ar.filter(items=[data_frame_ar.columns[i] for i in axis_colums])]\n",
    "\n",
    "axis_colums = [0,IK1-1]\n",
    "plot_data.append(data_frame_ar.filter(items=[data_frame_ar.columns[i] for i in axis_colums]))\n",
    "\n",
    "create_graphs(data_frames=plot_data, \n",
    "              title=None, \n",
    "              showlegend=False,\n",
    "              #xaxis=dict(title=\"time (sec)\"),\n",
    "              xaxis2=dict(title=\"time (sec)\", anchor=\"y2\"),\n",
    "              yaxis=dict(\n",
    "                  domain=[0.6,1.0],\n",
    "                  title=\"I<sub>Kr</sub> (pA/pF)\"\n",
    "              ),\n",
    "              yaxis2=dict(\n",
    "                  domain=[0,0.5],\n",
    "                  title=\"I<sub>K1</sub> (pA/pF)\", \n",
    "                  anchor=\"x2\")\n",
    "             )"
   ]
  },
  {
   "cell_type": "code",
   "execution_count": null,
   "metadata": {
    "extensions": {},
    "hide_input": true,
    "init_cell": true
   },
   "outputs": [],
   "source": [
    "# [Na]\n",
    "axis_colums = [0,ynid[32]+1]\n",
    "plot_data = [data_frame_ty.filter(items=[data_frame_ty.columns[i] for i in axis_colums])]\n",
    "\n",
    "axis_colums = [0,ynid[33]+1]\n",
    "plot_data.append(data_frame_ty.filter(items=[data_frame_ty.columns[i] for i in axis_colums]))\n",
    "\n",
    "axis_colums = [0,ynid[34]+1]\n",
    "plot_data.append(data_frame_ty.filter(items=[data_frame_ty.columns[i] for i in axis_colums]))\n",
    "\n",
    "create_graphs(data_frames=plot_data, \n",
    "              title=None, \n",
    "              showlegend=False,\n",
    "              xaxis=dict(title=\"time (sec)\", domain=[0,0.3]),\n",
    "              xaxis2=dict(title=\"time (sec)\", domain=[0.4,0.6]),\n",
    "              xaxis3=dict(title=\"time (sec)\", domain=[0.7,1.0]),\n",
    "              yaxis=dict(\n",
    "                  title=\"[Na]<sub>j</sub>\"\n",
    "              ),\n",
    "              yaxis2=dict(\n",
    "                  title=\"[Na]<sub>s<sup>l</sup></sub>\", \n",
    "                  anchor=\"x2\"),\n",
    "              yaxis3=dict(\n",
    "                  title=\"[Na]<sub>i</sub> (mmol/L relevant compartment\", \n",
    "                  anchor=\"x3\")\n",
    "             )"
   ]
  },
  {
   "cell_type": "code",
   "execution_count": null,
   "metadata": {
    "extensions": {},
    "hide_input": true,
    "init_cell": true
   },
   "outputs": [],
   "source": [
    "# I_NCX\n",
    "title=\"I<sub>NCX</sub> (pA/pF)\"\n",
    "axis_colums = [0,Incx-1]\n",
    "plot_data = data_frame_ar.filter(items=[data_frame_ar.columns[i] for i in axis_colums])\n",
    "create_graph(data_frame=plot_data, \n",
    "             title=None, \n",
    "             x_axis_title=\"time (sec)\",\n",
    "             y_axis_title=title)\n"
   ]
  },
  {
   "cell_type": "code",
   "execution_count": null,
   "metadata": {
    "extensions": {},
    "hide_input": true,
    "init_cell": true
   },
   "outputs": [],
   "source": [
    "# RyR fluxes\n",
    "axis_colums = [0,Jleak[0]-1]\n",
    "plot_data = [data_frame_ar.filter(items=[data_frame_ar.columns[i] for i in axis_colums])]\n",
    "\n",
    "axis_colums = [0,Jleak[1]-1]\n",
    "plot_data.append(data_frame_ar.filter(items=[data_frame_ar.columns[i] for i in axis_colums]))\n",
    "\n",
    "sr_ca_release = data_frame_ar.filter(items=[data_frame_ar.columns[0]])\n",
    "sr_ca_release[1] = data_frame_ar[Jleak[0]-1] - data_frame_ar[Jleak[1]-1]\n",
    "plot_data.append(sr_ca_release)\n",
    "create_graphs(data_frames=plot_data, \n",
    "              title=None, \n",
    "              showlegend=False,\n",
    "              xaxis=dict(title=None),\n",
    "              xaxis2=dict(title=None),\n",
    "              xaxis3=dict(title=\"time (sec)\", anchor=\"y3\"),\n",
    "              yaxis=dict(\n",
    "                  domain=[0.7,1.0],\n",
    "                  title=\"JRyR<sub>tot</sub>\"\n",
    "              ),\n",
    "              yaxis2=dict(\n",
    "                  domain=[0.4,0.6],\n",
    "                  title=\"Passive Leak\", \n",
    "                  anchor=\"x2\"),\n",
    "              yaxis3=dict(\n",
    "                  domain=[0,0.3],\n",
    "                  title=\"SR Ca release\", \n",
    "                  anchor=\"x3\")\n",
    "             )"
   ]
  }
 ],
 "metadata": {
  "celltoolbar": "Initialization Cell",
  "extensions": {},
  "kernelspec": {
   "display_name": "Python 3",
   "language": "python",
   "name": "python3"
  },
  "language_info": {
   "codemirror_mode": {
    "name": "ipython",
    "version": 3
   },
   "file_extension": ".py",
   "mimetype": "text/x-python",
   "name": "python",
   "nbconvert_exporter": "python",
   "pygments_lexer": "ipython3",
   "version": "3.7.1"
  }
 },
 "nbformat": 4,
 "nbformat_minor": 2
}
