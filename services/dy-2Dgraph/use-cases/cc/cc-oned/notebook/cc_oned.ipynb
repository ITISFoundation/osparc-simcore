{
 "cells": [
  {
   "cell_type": "code",
   "execution_count": 32,
   "metadata": {
    "hideoutput": true,
    "init_cell": true
   },
   "outputs": [
    {
     "data": {
      "text/html": [
       "<script>\n",
       "code_show=true; \n",
       "function code_toggle() {\n",
       " if (code_show){\n",
       " $('div.input').hide();\n",
       " } else {\n",
       " $('div.input').show();\n",
       " }\n",
       " code_show = !code_show\n",
       "} \n",
       "$( document ).ready(code_toggle);\n",
       "</script>\n",
       "<form action=\"javascript:code_toggle()\"><input type=\"submit\" value=\"Click here to toggle on/off the raw code.\"></form>"
      ],
      "text/plain": [
       "<IPython.core.display.HTML object>"
      ]
     },
     "execution_count": 32,
     "metadata": {},
     "output_type": "execute_result"
    }
   ],
   "source": [
    "from IPython.display import HTML\n",
    "\n",
    "HTML('''<script>\n",
    "code_show=true; \n",
    "function code_toggle() {\n",
    " if (code_show){\n",
    " $('div.input').hide();\n",
    " } else {\n",
    " $('div.input').show();\n",
    " }\n",
    " code_show = !code_show\n",
    "} \n",
    "$( document ).ready(code_toggle);\n",
    "</script>\n",
    "<form action=\"javascript:code_toggle()\"><input type=\"submit\" value=\"Click here to toggle on/off the raw code.\"></form>''')"
   ]
  },
  {
   "cell_type": "code",
   "execution_count": null,
   "metadata": {
    "hide_input": true
   },
   "outputs": [],
   "source": [
    "from IPython.display import HTML\n",
    "\n",
    "HTML('''<script>\n",
    "code_show=true; \n",
    "function code_toggle() {\n",
    " if (code_show){\n",
    " $('div.input').hide();\n",
    " } else {\n",
    " $('div.input').show();\n",
    " }\n",
    " code_show = !code_show\n",
    "} \n",
    "$( document ).ready(code_toggle);\n",
    "</script>\n",
    "<form action=\"javascript:code_toggle()\"><input type=\"submit\" value=\"Click here to toggle on/off the raw code.\"></form>''')"
   ]
  },
  {
   "cell_type": "code",
   "execution_count": null,
   "metadata": {
    "hide_input": true
   },
   "outputs": [],
   "source": [
    "%%javascript\n",
    "$('#menubar').hide();"
   ]
  },
  {
   "cell_type": "code",
   "execution_count": null,
   "metadata": {
    "extensions": {},
    "hide_input": true,
    "init_cell": true
   },
   "outputs": [],
   "source": [
    "import os\n",
    "import plotly.offline as offline\n",
    "import plotly.figure_factory as ff\n",
    "import plotly.graph_objs as go\n",
    "offline.init_notebook_mode(connected=True)\n",
    "\n",
    "def create_graphs(data_frames, **kwargs):\n",
    "    data = [        \n",
    "            go.Scatter(\n",
    "                x=data_frames[df_index][data_frames[df_index].columns[0]],\n",
    "                y=data_frames[df_index][data_frames[df_index].columns[i]],                \n",
    "                xaxis=(\"x\" + str(df_index + 1)),\n",
    "                yaxis=(\"y\" + str(df_index + 1)),\n",
    "                name=str(data_frames[df_index].columns[i])\n",
    "            ) for df_index in range(0, len(data_frames)) \n",
    "            for i in range(1,data_frames[df_index].columns.size)\n",
    "    ]\n",
    "    \n",
    "    layout = go.Layout(**kwargs)\n",
    "    fig = go.Figure(data=data, layout=layout)\n",
    "    offline.iplot(fig, config={\"displayModeBar\": False, \"showLink\":False})\n",
    "\n",
    "def create_graph(data_frame, title=None, x_axis_title=None, y_axis_title = None):\n",
    "    data = [        \n",
    "            go.Scatter(\n",
    "                x=data_frame[data_frame.columns[0]],\n",
    "                y=data_frame[data_frame.columns[i]],                \n",
    "                name=str(data_frame.columns[i])                \n",
    "            ) \n",
    "            for i in range(1,data_frame.columns.size)\n",
    "            \n",
    "    ]\n",
    "    \n",
    "    #fig = tools.make_subplots(rows=1, cols=len(data_frames))\n",
    "    layout = go.Layout(\n",
    "        title=title,         \n",
    "        showlegend=False,\n",
    "        xaxis=dict(\n",
    "            title=x_axis_title\n",
    "        ),\n",
    "        yaxis=dict(\n",
    "            title=y_axis_title\n",
    "        )        \n",
    "    )\n",
    "    fig = go.Figure(data=data, layout=layout)\n",
    "    offline.iplot(fig, config={\"displayModeBar\": False, \"showLink\":False})\n",
    "    \n",
    "def create_surface_plot(matrix, title=None):\n",
    "    data = [\n",
    "        go.Surface(\n",
    "            z=matrix\n",
    "        )\n",
    "    ]\n",
    "    \n",
    "    layout = go.Layout(\n",
    "        title=title,         \n",
    "        showlegend=False,\n",
    "    )\n",
    "    fig = go.Figure(data=data, layout=layout)\n",
    "    offline.iplot(fig, config={\"displayModeBar\": True, \"showLink\":True})"
   ]
  },
  {
   "cell_type": "code",
   "execution_count": null,
   "metadata": {
    "extensions": {},
    "hide_input": true,
    "init_cell": true
   },
   "outputs": [],
   "source": [
    "from simcore_sdk.nodeports.nodeports import PORTS"
   ]
  },
  {
   "cell_type": "code",
   "execution_count": null,
   "metadata": {
    "extensions": {},
    "hide_input": true,
    "init_cell": true
   },
   "outputs": [],
   "source": [
    "# from ECG_1D.m\n",
    "\n",
    "import pandas as pd\n",
    "\n",
    "\n",
    "def plot_ECG():\n",
    "    data_path_a = PORTS.inputs[0].get()    \n",
    "    data_frame_a = pd.read_csv(data_path_a, sep=\"\\t\", header=None)\n",
    "    # membrane potential\n",
    "    axis_colums = [0,1]\n",
    "    plot_data = data_frame_a.filter(items=[data_frame_a.columns[i] for i in axis_colums])\n",
    "    create_graph(data_frame=plot_data)"
   ]
  },
  {
   "cell_type": "code",
   "execution_count": null,
   "metadata": {
    "extensions": {},
    "hide_input": true,
    "init_cell": true
   },
   "outputs": [],
   "source": [
    "import numpy as np\n",
    "from numpy import ndarray\n",
    "import pandas as pd\n",
    "from pandas import DataFrame\n",
    "\n",
    "def ap_surface_1D():\n",
    "    data_path_a = PORTS.inputs[0].get()\n",
    "    data_frame_a = pd.read_csv(data_path_a, sep=\"\\t\", header=None)\n",
    "    \n",
    "    axis_colums = [0,1]\n",
    "    plot_data = data_frame_a.filter(items=[data_frame_a.columns[i] for i in axis_colums])\n",
    "    create_graph(data_frame=plot_data)\n",
    "    \n",
    "    data_path_str = PORTS.inputs[1].get()\n",
    "    data_frame_JJ = pd.read_csv(data_path_str, sep=\"\\t\", header=None)\n",
    "    out_v = data_frame_JJ\n",
    "        \n",
    "    num_cells = 165\n",
    "    # point ranges you want to plot\n",
    "    min = 0 #90000;\n",
    "    max = out_v.shape[0]-1 # 4 #100000;\n",
    "    diff = (max - min + 1)\n",
    "\n",
    "    \n",
    "    t = np.array(out_v.iloc[range(min,max+1), 0]).reshape(diff, 1)\n",
    "    T = t\n",
    "    #creates a matrix of t matricies (1 for each cell)\n",
    "    for b in range(1,(num_cells)):\n",
    "        T = np.hstack((T, t))\n",
    "    \n",
    "    \n",
    "    #creats an array of cell numbers\n",
    "    cellnum = np.array([x for x in range(1, num_cells+1)]).reshape(1, num_cells)\n",
    "    \n",
    "    #creates a square matrix of cell numbers on the diagonal       \n",
    "    cellm = np.ones((diff,1)) @ cellnum\n",
    "    vm = out_v.iloc[range(min,max+1), range(1,num_cells+1)]\n",
    "    \n",
    "    colormap = [\n",
    "        [0, 'rgb(0,0,0)'],\n",
    "        [1.0, 'rgb(180.0, 180.0, 180.0)']\n",
    "    ]\n",
    "    \n",
    "    data = [\n",
    "        go.Surface(           \n",
    "            x=cellm,\n",
    "            y=T,\n",
    "            z=vm.values,\n",
    "            colorscale=colormap,\n",
    "            reversescale=True\n",
    "        )\n",
    "    ]\n",
    "    \n",
    "    camera = dict(\n",
    "        up=dict(x=-1, y=0, z=0),\n",
    "        center=dict(x=0,y=0,z=0),\n",
    "        eye=dict(x=1, y=0, z=2)\n",
    "    )\n",
    "    \n",
    "    layout = go.Layout(\n",
    "        title=None,\n",
    "        scene=dict(camera=camera)\n",
    "    )\n",
    "    fig = go.Figure(data=data, layout=layout)\n",
    "    \n",
    "    \n",
    "    offline.iplot(fig)"
   ]
  },
  {
   "cell_type": "code",
   "execution_count": null,
   "metadata": {
    "extensions": {},
    "hide_input": true,
    "init_cell": true
   },
   "outputs": [],
   "source": [
    "ap_surface_1D()"
   ]
  }
 ],
 "metadata": {
  "celltoolbar": "Initialization Cell",
  "extensions": {},
  "kernelspec": {
   "display_name": "Python 3",
   "language": "python",
   "name": "python3"
  },
  "language_info": {
   "codemirror_mode": {
    "name": "ipython",
    "version": 3
   },
   "file_extension": ".py",
   "mimetype": "text/x-python",
   "name": "python",
   "nbconvert_exporter": "python",
   "pygments_lexer": "ipython3",
   "version": "3.6.5"
  },
  "widgets": {
   "application/vnd.jupyter.widget-state+json": {
    "state": {},
    "version_major": 2,
    "version_minor": 0
   }
  }
 },
 "nbformat": 4,
 "nbformat_minor": 2
}
