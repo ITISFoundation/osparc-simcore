{
 "cells": [
  {
   "cell_type": "code",
   "execution_count": null,
   "metadata": {
    "extensions": {
     "jupyter_dashboards": {
      "version": 1,
      "views": {
       "grid_default": {
        "hidden": true
       },
       "report_default": {}
      }
     }
    },
    "hide_input": true,
    "init_cell": true
   },
   "outputs": [],
   "source": [
    "from simcore_sdk.nodeports.nodeports import PORTS"
   ]
  },
  {
   "cell_type": "code",
   "execution_count": null,
   "metadata": {
    "extensions": {
     "jupyter_dashboards": {
      "version": 1,
      "views": {
       "grid_default": {
        "hidden": true
       },
       "report_default": {}
      }
     }
    },
    "hide_input": true,
    "init_cell": true
   },
   "outputs": [],
   "source": [
    "import os\n",
    "import tempfile\n",
    "import matplotlib\n",
    "import matplotlib.pyplot as plt\n",
    "import matplotlib.animation as animation\n",
    "import pandas as pd\n",
    "import numpy as np\n",
    "import tqdm\n",
    "\n",
    "number_of_columns = 21"
   ]
  },
  {
   "cell_type": "code",
   "execution_count": null,
   "metadata": {
    "extensions": {
     "jupyter_dashboards": {
      "version": 1,
      "views": {
       "grid_default": {
        "hidden": true
       },
       "report_default": {}
      }
     }
    },
    "hide_input": true,
    "init_cell": true
   },
   "outputs": [],
   "source": [
    "data_path = PORTS.inputs[0].get()\n",
    "\n",
    "# get the list of files\n",
    "dat_files = sorted([os.path.join(data_path, x) for x in os.listdir(data_path) if x.endswith(\".dat\")], key=lambda f: int(''.join(filter(str.isdigit, f))))\n",
    "out_images_path = tempfile.gettempdir()\n"
   ]
  },
  {
   "cell_type": "code",
   "execution_count": null,
   "metadata": {
    "extensions": {
     "jupyter_dashboards": {
      "version": 1,
      "views": {
       "grid_default": {
        "col": 2,
        "height": 21,
        "hidden": false,
        "row": 0,
        "width": 7
       },
       "report_default": {}
      }
     }
    },
    "hide_input": true,
    "init_cell": true
   },
   "outputs": [],
   "source": [
    "def plot_contour(i):\n",
    "    plt.clf()\n",
    "    data_frame = pd.read_csv(dat_files[i], sep='\\t', header=None)\n",
    "    if data_frame.shape[0] == 1:\n",
    "        data_frame = pd.concat([data_frame]*data_frame.shape[1], ignore_index=True)\n",
    "    plt.contourf(data_frame.values, cmap=plt.get_cmap('jet'), levels=np.arange(-100.0, 51.0, 1.0))\n",
    "    plt.axis(\"off\")\n",
    "    plt.colorbar()\n",
    "\n",
    "\n",
    "\n",
    "# create movie writer\n",
    "FFMpegWriter = animation.writers[\"ffmpeg\"]\n",
    "metdata = dict(title=\"Action potentials\", artist=\"\", comment=\"\")\n",
    "movie_writer = FFMpegWriter(fps=30, metadata=metdata)\n",
    "\n",
    "pixel_size = 300\n",
    "dpi = 96.0\n",
    "plt.ioff()\n",
    "fig = plt.figure(frameon=False, figsize=(pixel_size/dpi, pixel_size/dpi), dpi=dpi)\n",
    "\n",
    "\n",
    "number_of_frames = len(dat_files)\n",
    "video_file_path = os.path.join(out_images_path, \"test_movie.mp4\")\n",
    "with movie_writer.saving(fig, video_file_path, dpi):\n",
    "    for frame in tqdm.tqdm(range(0, number_of_frames)):\n",
    "        plot_contour(frame)\n",
    "        movie_writer.grab_frame()\n",
    "plt.close(fig)\n",
    "\n",
    "        \n",
    "import io\n",
    "import base64\n",
    "from IPython.display import HTML\n",
    "video = io.open(video_file_path, 'r+b').read()\n",
    "encoded = base64.b64encode(video)\n",
    "HTML(data='''<video alt=\"test\" controls>\n",
    "                <source src=\"data:video/mp4;base64,{0}\" type=\"video/mp4\" />\n",
    "             </video>'''.format(encoded.decode('ascii')))"
   ]
  }
 ],
 "metadata": {
  "celltoolbar": "Initialization Cell",
  "extensions": {
   "jupyter_dashboards": {
    "activeView": "grid_default",
    "version": 1,
    "views": {
     "grid_default": {
      "cellMargin": 10,
      "defaultCellHeight": 20,
      "maxColumns": 12,
      "name": "grid",
      "type": "grid"
     },
     "report_default": {
      "name": "report",
      "type": "report"
     }
    }
   }
  },
  "kernelspec": {
   "display_name": "Python 3",
   "language": "python",
   "name": "python3"
  },
  "language_info": {
   "codemirror_mode": {
    "name": "ipython",
    "version": 3
   },
   "file_extension": ".py",
   "mimetype": "text/x-python",
   "name": "python",
   "nbconvert_exporter": "python",
   "pygments_lexer": "ipython3",
   "version": "3.6.5"
  }
 },
 "nbformat": 4,
 "nbformat_minor": 2
}
