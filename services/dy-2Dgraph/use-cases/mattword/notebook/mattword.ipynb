{
 "cells": [
  {
   "cell_type": "code",
   "execution_count": 1,
   "metadata": {
    "hideoutput": true,
    "init_cell": true
   },
   "outputs": [
    {
     "data": {
      "text/html": [
       "<script>\n",
       "code_show=true; \n",
       "function code_toggle() {\n",
       " if (code_show){\n",
       " $('div.input').hide();\n",
       " } else {\n",
       " $('div.input').show();\n",
       " }\n",
       " code_show = !code_show\n",
       "} \n",
       "$( document ).ready(code_toggle);\n",
       "</script>\n",
       "<form action=\"javascript:code_toggle()\"><input type=\"submit\" value=\"Click here to toggle on/off the raw code.\"></form>"
      ],
      "text/plain": [
       "<IPython.core.display.HTML object>"
      ]
     },
     "execution_count": 1,
     "metadata": {},
     "output_type": "execute_result"
    }
   ],
   "source": [
    "from IPython.display import HTML\n",
    "\n",
    "HTML('''<script>\n",
    "code_show=true; \n",
    "function code_toggle() {\n",
    " if (code_show){\n",
    " $('div.input').hide();\n",
    " } else {\n",
    " $('div.input').show();\n",
    " }\n",
    " code_show = !code_show\n",
    "} \n",
    "$( document ).ready(code_toggle);\n",
    "</script>\n",
    "<form action=\"javascript:code_toggle()\"><input type=\"submit\" value=\"Click here to toggle on/off the raw code.\"></form>''')"
   ]
  },
  {
   "cell_type": "code",
   "execution_count": 3,
   "metadata": {
    "extensions": {},
    "hide_input": true,
    "init_cell": true
   },
   "outputs": [],
   "source": [
    "from simcore_sdk import node_ports\n",
    "PORTS = node_ports.ports()"
   ]
  },
  {
   "cell_type": "code",
   "execution_count": 12,
   "metadata": {
    "hide_input": true,
    "init_cell": true
   },
   "outputs": [
    {
     "data": {
      "application/vnd.jupyter.widget-view+json": {
       "model_id": "08e2112564624369856b06b3e31baf30",
       "version_major": 2,
       "version_minor": 0
      },
      "text/plain": [
       "HBox(children=(VBox(children=(Label(value='Select a Nerve Profile'), VBox(children=(Select(description='Select…"
      ]
     },
     "metadata": {},
     "output_type": "display_data"
    }
   ],
   "source": [
    "import ipywidgets as widgets\n",
    "\n",
    "style = {\"description_width\": \"initial\"}\n",
    "\n",
    "nerve_profile = widgets.Select(\n",
    "    options=[\"Subject 1: Cervical Vagus\", \"Subject 2: Cervical Vagus\", \"Subject 2: Gastric Branch\"],\n",
    "    value=\"Subject 1: Cervical Vagus\",\n",
    "    # rows=10,\n",
    "    description=\"Select:\",\n",
    "    disabled=False,\n",
    "    style=style\n",
    ")\n",
    "\n",
    "load_input = widgets.Button(\n",
    "    description=\"Load\",\n",
    "    disabled=False,\n",
    "    button_style=\"success\",\n",
    "    align_self=\"right\"\n",
    ")\n",
    "\n",
    "input_layout = widgets.VBox([nerve_profile, load_input])\n",
    "input_label = widgets.Label(\"Select a Nerve Profile\")\n",
    "input_box = widgets.VBox([input_label, input_layout], layout=widgets.Layout(border=\"solid 1px\"))\n",
    "\n",
    "charge_phase_cb = widgets.Checkbox(\n",
    "    value=False,\n",
    "    description=\"Plot against Charge-Phase\",\n",
    "    disabled=False,\n",
    "    style=style\n",
    ")\n",
    "\n",
    "time_cb = widgets.Checkbox(\n",
    "    value=False,\n",
    "    description=\"Plot CNAP versus Time (ms)\",\n",
    "    disabled=False,\n",
    "    style=style\n",
    ")\n",
    "\n",
    "plot_options_layout = widgets.VBox([charge_phase_cb, time_cb])\n",
    "plot_options_label = widgets.Label(\"Plot Options\")\n",
    "plot_options_box = widgets.VBox([plot_options_label, plot_options_layout], layout=widgets.Layout(border=\"solid 1px\"))\n",
    "\n",
    "horizontal_input_box = widgets.HBox([input_box, plot_options_box], layout=widgets.Layout(width=\"100%\"))\n",
    "\n",
    "def on_load_clicked(b):\n",
    "    print(\"Load clicked.\", nerve_profile.value)\n",
    "load_input.on_click(on_load_clicked)\n",
    "\n",
    "\n",
    "horizontal_input_box"
   ]
  },
  {
   "cell_type": "code",
   "execution_count": 14,
   "metadata": {
    "hide_input": true,
    "init_cell": true
   },
   "outputs": [
    {
     "data": {
      "application/vnd.jupyter.widget-view+json": {
       "model_id": "13773bf2bdc34738a65351d5bcca375e",
       "version_major": 2,
       "version_minor": 0
      },
      "text/plain": [
       "HBox(children=(VBox(children=(Label(value='Sweep Pulse Current'), VBox(children=(FloatText(value=0.0, descript…"
      ]
     },
     "metadata": {},
     "output_type": "display_data"
    }
   ],
   "source": [
    "\n",
    "\n",
    "start_ist = widgets.FloatText(\n",
    "    value=0,\n",
    "    description=\"Starting Ist (mA):\",\n",
    "    disabled=False,\n",
    "    layout=widgets.Layout(width=\"200px\"),\n",
    "    style=style\n",
    ")\n",
    "\n",
    "end_ist = widgets.FloatText(\n",
    "    value=1,\n",
    "    description=\"Ending Ist (mA):\",\n",
    "    disabled=False,\n",
    "    style=style\n",
    ")\n",
    "\n",
    "step_size_current = widgets.FloatText(\n",
    "    value=0.01,\n",
    "    description=\"Step Size (mA):\",\n",
    "    disabled=False,\n",
    "    style=style\n",
    ")\n",
    "\n",
    "fixed_tst = widgets.FloatText(\n",
    "    value=0.4,\n",
    "    description=\"Fixed tst (ms):\",\n",
    "    disabled=False,\n",
    "    style=style\n",
    ")\n",
    "\n",
    "predict_CNAPs_current = widgets.Button(\n",
    "    description=\"Predict CNAPs\",\n",
    "    disabled=False,\n",
    "    button_style=\"danger\"\n",
    ")\n",
    "\n",
    "sweep_pulse_current_layout = widgets.VBox([start_ist, end_ist, step_size_current, fixed_tst, predict_CNAPs_current])\n",
    "sweep_pulse_current_label = widgets.Label(\"Sweep Pulse Current\")\n",
    "sweep_pulse_current_box = widgets.VBox([sweep_pulse_current_label, sweep_pulse_current_layout], layout=widgets.Layout(border=\"solid 1px\"))\n",
    "\n",
    "\n",
    "start_tst = widgets.FloatText(\n",
    "    value=0,\n",
    "    description=\"Starting tst (mA):\",\n",
    "    disabled=False,\n",
    "    style=style\n",
    ")\n",
    "\n",
    "end_tst = widgets.FloatText(\n",
    "    value=1,\n",
    "    description=\"Ending tst (mA):\",\n",
    "    disabled=False,\n",
    "    style=style\n",
    ")\n",
    "\n",
    "step_size_duration = widgets.FloatText(\n",
    "    value=0.01,\n",
    "    description=\"Step Size (mA):\",\n",
    "    disabled=False,\n",
    "    style=style\n",
    ")\n",
    "\n",
    "fixed_ist = widgets.FloatText(\n",
    "    value=0.4,\n",
    "    description=\"Fixed tst (ms):\",\n",
    "    disabled=False,\n",
    "    style=style\n",
    ")\n",
    "\n",
    "predict_CNAPs_time = widgets.Button(\n",
    "    description=\"Predict CNAPs\",\n",
    "    disabled=False,\n",
    "    button_style=\"info\",\n",
    "    layout=widgets.Layout(align=\"right\")\n",
    ")\n",
    "\n",
    "sweep_pulse_duration_layout = widgets.VBox([start_tst, end_tst, step_size_duration, fixed_ist, predict_CNAPs_time])\n",
    "sweep_pulse_duration_label = widgets.Label(\"Sweep Pulse Duration\")\n",
    "sweep_pulse_duration_box = widgets.VBox([sweep_pulse_duration_label, sweep_pulse_duration_layout], layout=widgets.Layout(border=\"solid 1px\"))\n",
    "\n",
    "\n",
    "def on_current_clicked(b):\n",
    "    print(\"Current clicked.\", charge_phase_cb.value, time_cb.value, start_ist.value, end_ist.value, step_size_current.value, fixed_tst.value)\n",
    "predict_CNAPs_current.on_click(on_current_clicked)\n",
    "\n",
    "\n",
    "def on_time_clicked(b):\n",
    "    print(\"Time clicked.\", charge_phase_cb.value, time_cb.value, start_tst.value, end_tst.value, step_size_duration.value, fixed_ist.value)\n",
    "predict_CNAPs_time.on_click(on_time_clicked)\n",
    "\n",
    "\n",
    "parameters_layout = widgets.HBox([sweep_pulse_current_box, sweep_pulse_duration_box], layout=widgets.Layout(width=\"100%\"))\n",
    "parameters_layout"
   ]
  }
 ],
 "metadata": {
  "celltoolbar": "Initialization Cell",
  "extensions": {},
  "kernelspec": {
   "display_name": "Python 3",
   "language": "python",
   "name": "python3"
  },
  "language_info": {
   "codemirror_mode": {
    "name": "ipython",
    "version": 3
   },
   "file_extension": ".py",
   "mimetype": "text/x-python",
   "name": "python",
   "nbconvert_exporter": "python",
   "pygments_lexer": "ipython3",
   "version": "3.7.1"
  }
 },
 "nbformat": 4,
 "nbformat_minor": 2
}
