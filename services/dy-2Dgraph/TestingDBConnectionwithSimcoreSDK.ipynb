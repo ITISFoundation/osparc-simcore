{
 "cells": [
  {
   "cell_type": "markdown",
   "metadata": {},
   "source": [
    "# Init"
   ]
  },
  {
   "cell_type": "code",
   "execution_count": null,
   "metadata": {},
   "outputs": [],
   "source": [
    "import sys\n",
    "sys.path.append(r\"C:\\Users\\anderegg\\Documents\\dev\\OSPARC\\osparc-simcore-ssh\\packages\\simcore-sdk\\src\")\n",
    "sys.path.append(r\"C:\\Users\\anderegg\\Documents\\dev\\OSPARC\\osparc-simcore-ssh\\packages\\s3wrapper\\src\")\n",
    "\n",
    "import logging\n",
    "logging.basicConfig(level=logging.WARNING)"
   ]
  },
  {
   "cell_type": "code",
   "execution_count": null,
   "metadata": {},
   "outputs": [],
   "source": [
    "import os\n",
    "os.environ[\"SIMCORE_NODE_UUID\"] = \"12345555\"\n",
    "os.environ[\"PIPELINE_NODE_ID\"] = \"1\"\n",
    "\n",
    "os.environ[\"POSTGRES_ENDPOINT\"] = \"localhost:5432\"\n",
    "os.environ[\"POSTGRES_USER\"] = \"simcore\"\n",
    "os.environ[\"POSTGRES_PASSWORD\"] = \"simcore\"\n",
    "os.environ[\"POSTGRES_DB\"] = \"simcoredb\"\n",
    "\n",
    "os.environ[\"S3_ENDPOINT\"] = \"localhost:9001\"\n",
    "os.environ[\"S3_ACCESS_KEY\"] = \"12345678\"\n",
    "os.environ[\"S3_SECRET_KEY\"] = \"12345678\"\n",
    "os.environ[\"S3_BUCKET_NAME\"] = \"simcore\"\n"
   ]
  },
  {
   "cell_type": "markdown",
   "metadata": {},
   "source": [
    "# Use of nodeports"
   ]
  },
  {
   "cell_type": "code",
   "execution_count": null,
   "metadata": {},
   "outputs": [],
   "source": [
    "from simcore_sdk.nodeports import PORTS"
   ]
  },
  {
   "cell_type": "code",
   "execution_count": null,
   "metadata": {
    "scrolled": false
   },
   "outputs": [],
   "source": [
    "print(len(PORTS.inputs))\n",
    "print(PORTS.inputs[0])"
   ]
  },
  {
   "cell_type": "code",
   "execution_count": null,
   "metadata": {
    "scrolled": false
   },
   "outputs": [],
   "source": [
    "print(PORTS.inputs[0].get())\n"
   ]
  },
  {
   "cell_type": "code",
   "execution_count": null,
   "metadata": {},
   "outputs": [],
   "source": [
    "print(PORTS.outputs[0])"
   ]
  },
  {
   "cell_type": "code",
   "execution_count": null,
   "metadata": {},
   "outputs": [],
   "source": [
    "PORTS.outputs[\"out_1\"].get()"
   ]
  },
  {
   "cell_type": "code",
   "execution_count": null,
   "metadata": {},
   "outputs": [],
   "source": [
    "PORTS.outputs[\"out_1\"].set(\"Hey this still works or NOTTTTTT crazy shit man!!\")"
   ]
  },
  {
   "cell_type": "markdown",
   "metadata": {},
   "source": [
    "# Set up database and S3 with some data from a configuration"
   ]
  },
  {
   "cell_type": "code",
   "execution_count": null,
   "metadata": {},
   "outputs": [],
   "source": [
    "import os\n",
    "import sys\n",
    "import tempfile\n",
    "import json\n",
    "import pandas as pd\n",
    "import numpy as np\n",
    "import tenacity\n",
    "from pathlib import Path\n",
    "\n",
    "from sqlalchemy import create_engine\n",
    "from sqlalchemy.orm import sessionmaker\n",
    "\n",
    "from simcore_sdk.models.pipeline_models import Base, ComputationalTask, ComputationalPipeline\n",
    "from simcore_sdk.config.db import Config as db_config\n",
    "\n",
    "from simcore_sdk.config.s3 import Config as s3_config\n",
    "from s3wrapper.s3_client import S3Client\n",
    "\n",
    "\n",
    "class DbSettings(object):\n",
    "    def __init__(self):\n",
    "        self._db_config = db_config()\n",
    "        self.db = create_engine(self._db_config.endpoint, client_encoding='utf8')\n",
    "        self.Session = sessionmaker(self.db)\n",
    "        self.session = self.Session()\n",
    "\n",
    "class S3Settings(object):\n",
    "    def __init__(self):\n",
    "        self._config = s3_config()\n",
    "        self.client = S3Client(endpoint=self._config.endpoint,\n",
    "            access_key=self._config.access_key, secret_key=self._config.secret_key)\n",
    "        self.bucket = self._config.bucket_name\n",
    "        self.client.create_bucket(self.bucket)\n",
    "@tenacity.retry(wait=tenacity.wait_fixed(2), stop=tenacity.stop_after_attempt(5) | tenacity.stop_after_delay(20))\n",
    "def init_db():\n",
    "    db = DbSettings()    \n",
    "    Base.metadata.create_all(db.db)\n",
    "    return db\n",
    "\n",
    "@tenacity.retry(wait=tenacity.wait_fixed(2), stop=tenacity.stop_after_attempt(5) | tenacity.stop_after_delay(20))\n",
    "def init_s3():\n",
    "    s3 = S3Settings()\n",
    "    return s3\n",
    "db = init_db()\n",
    "new_Pipeline = ComputationalPipeline()\n",
    "db.session.add(new_Pipeline)\n",
    "\n",
    "db.session.commit()"
   ]
  },
  {
   "cell_type": "code",
   "execution_count": null,
   "metadata": {},
   "outputs": [],
   "source": [
    "node_uuid = os.environ.get(\"SIMCORE_NODE_UUID\")\n",
    "configuration={\n",
    "    \"version\":\"0.1\",\n",
    "    \"inputs\": [\n",
    "        {\n",
    "            \"key\": \"in_1\",\n",
    "            \"label\": \"vm 1Hz\",\n",
    "            \"desc\": \"these are computed data out of a pipeline\",\n",
    "            \"type\": \"fileUrl\",\n",
    "            \"value\": \"link.\" + node_uuid + \".in_1\",\n",
    "            \"timestamp\": \"2018-05-23T15:34:53.511Z\"\n",
    "        },\n",
    "        {\n",
    "            \"key\": \"in_2\",\n",
    "            \"label\": \"all results 1Hz\",\n",
    "            \"desc\": \"computed data out of a pipeline\",\n",
    "            \"type\": \"fileUrl\",\n",
    "            \"value\": \"link.\" + node_uuid + \".in_2\",\n",
    "            \"timestamp\": \"2018-05-23T15:34:53.511Z\"\n",
    "        }\n",
    "    ],\n",
    "    \"outputs\": [        \n",
    "    ]\n",
    "}\n",
    "\n",
    "#configuration = json.loads(json_configuration)\n",
    "new_Node = ComputationalTask(pipeline_id=new_Pipeline.pipeline_id, node_id=node_uuid, input=configuration[\"inputs\"], output=configuration[\"outputs\"])\n",
    "db.session.add(new_Node)\n",
    "db.session.commit()"
   ]
  },
  {
   "cell_type": "code",
   "execution_count": null,
   "metadata": {},
   "outputs": [],
   "source": [
    "def create_dummy_table(number_of_rows, number_of_columns):\n",
    "    time = np.arange(number_of_rows).reshape(number_of_rows,1)\n",
    "    matrix = np.random.randn(number_of_rows, number_of_columns)\n",
    "    fullmatrix = np.hstack((time, matrix))\n",
    "    df = pd.DataFrame(fullmatrix)\n",
    "    return df\n",
    "\n",
    "# create a dummy file filled with dummy data\n",
    "temp_file = tempfile.NamedTemporaryFile()\n",
    "temp_file.close()\n",
    "\n",
    "# create a dummy table\n",
    "number_of_rows = 5000\n",
    "number_of_columns = 200\n",
    "number_of_files = 20\n",
    "s3 = init_s3()\n",
    "# push the file to the S3 for each input item\n",
    "for input_item in configuration[\"inputs\"]:\n",
    "    if input_item[\"type\"] == \"fileUrl\":\n",
    "        df = create_dummy_table(number_of_rows, number_of_columns)\n",
    "        # serialize to the file\n",
    "        with open(temp_file.name, \"w\") as file_pointer:\n",
    "            df.to_csv(path_or_buf=file_pointer, sep=\"\\t\", header=False, index=False)        \n",
    "\n",
    "        s3_object_name = Path(str(new_Pipeline.pipeline_id), node_uuid, input_item[\"key\"])\n",
    "        s3.client.upload_file(s3.bucket, s3_object_name.as_posix(), temp_file.name)\n",
    "    elif input_item[\"type\"] == \"folderUrl\":\n",
    "        for i in range(number_of_files):\n",
    "            df = create_dummy_table(number_of_rows, number_of_columns)\n",
    "            # serialize to the file\n",
    "            with open(temp_file.name, \"w\") as file_pointer:\n",
    "                df.to_csv(path_or_buf=file_pointer, sep=\"\\t\", header=False, index=False)        \n",
    "\n",
    "            s3_object_name = Path(str(new_Pipeline.pipeline_id), node_uuid, input_item[\"key\"], str(i) + \".dat\")\n",
    "            s3.client.upload_file(s3.bucket, s3_object_name.as_posix(), temp_file.name)\n",
    "\n",
    "Path(temp_file.name).unlink()"
   ]
  }
 ],
 "metadata": {
  "kernelspec": {
   "display_name": "Python 3",
   "language": "python",
   "name": "python3"
  },
  "language_info": {
   "codemirror_mode": {
    "name": "ipython",
    "version": 3
   },
   "file_extension": ".py",
   "mimetype": "text/x-python",
   "name": "python",
   "nbconvert_exporter": "python",
   "pygments_lexer": "ipython3",
   "version": "3.6.5"
  }
 },
 "nbformat": 4,
 "nbformat_minor": 2
}
