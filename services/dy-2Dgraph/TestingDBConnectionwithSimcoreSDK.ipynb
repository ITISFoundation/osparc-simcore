{
 "cells": [
  {
   "cell_type": "code",
   "execution_count": 1,
   "metadata": {},
   "outputs": [],
   "source": [
    "import sys\n",
    "sys.path.append(r\"C:\\Users\\anderegg\\Documents\\dev\\OSPARC\\osparc-simcore-ssh\\packages\\simcore-sdk\\src\")\n",
    "sys.path.append(r\"C:\\Users\\anderegg\\Documents\\dev\\OSPARC\\osparc-simcore-ssh\\packages\\s3wrapper\\src\")\n",
    "\n",
    "import logging\n",
    "logging.basicConfig(level=logging.DEBUG)"
   ]
  },
  {
   "cell_type": "code",
   "execution_count": 2,
   "metadata": {},
   "outputs": [],
   "source": [
    "import os\n",
    "os.environ[\"SIMCORE_NODE_UUID\"] = \"3a97f542-93c4-419c-b5c9-bcf9ff3ada7e\"\n",
    "os.environ[\"PIPELINE_NODE_ID\"] = \"42\"\n",
    "\n",
    "os.environ[\"S3_ENDPOINT\"] = \"localhost:9001\"\n",
    "os.environ[\"S3_ACCESS_KEY\"] = \"12345678\"\n",
    "os.environ[\"S3_SECRET_KEY\"] = \"12345678\"\n",
    "os.environ[\"S3_BUCKET_NAME\"] = \"simcore\"\n"
   ]
  },
  {
   "cell_type": "code",
   "execution_count": 3,
   "metadata": {},
   "outputs": [
    {
     "name": "stderr",
     "output_type": "stream",
     "text": [
      "DEBUG:simcore_sdk.nodeports.serialization:Creating Nodeports object with io object: <simcore_sdk.nodeports.io.IO object at 0x0000027F5D5DBF28>, auto read True and auto write True\n",
      "DEBUG:simcore_sdk.nodeports.io:Getting ports configuration using Location.DATABASE\n",
      "DEBUG:simcore_sdk.nodeports.io:Reading from database\n",
      "DEBUG:simcore_sdk.nodeports.io:Reading from database for pipeline id 42 and node id 3a97f542-93c4-419c-b5c9-bcf9ff3ada7e\n",
      "DEBUG:simcore_sdk.nodeports.serialization:Encoding object: <simcore_sdk.models.pipeline_models.ComputationalTask object at 0x0000027F75F49CF8>\n",
      "DEBUG:simcore_sdk.nodeports.serialization:Encoding Node object\n",
      "DEBUG:simcore_sdk.nodeports.io:Found and converted to json\n",
      "DEBUG:simcore_sdk.nodeports.serialization:Decoding Data items json: {'key': 'in_1', 'label': 'File-url', 'desc': 'File-url', 'type': 'fileUrl', 'value': 'link.dd329e10-a906-42da-a7b3-4c4fec4a786f.out_1', 'timestamp': '2018-05-23T15:34:53.511Z'}\n",
      "DEBUG:simcore_sdk.nodeports._item:Creating new data item with {'key': 'in_1', 'label': 'File-url', 'desc': 'File-url', 'type': 'fileUrl', 'value': 'link.dd329e10-a906-42da-a7b3-4c4fec4a786f.out_1', 'timestamp': '2018-05-23T15:34:53.511Z'}\n",
      "DEBUG:simcore_sdk.nodeports.serialization:Decoding Data items json: {'key': 'in_2', 'label': 'Number', 'desc': 'Number', 'type': 'integer', 'value': 'link.dd329e10-a906-42da-a7b3-4c4fec4a786f.out_2', 'timestamp': '2018-05-23T15:34:53.511Z'}\n",
      "DEBUG:simcore_sdk.nodeports._item:Creating new data item with {'key': 'in_2', 'label': 'Number', 'desc': 'Number', 'type': 'integer', 'value': 'link.dd329e10-a906-42da-a7b3-4c4fec4a786f.out_2', 'timestamp': '2018-05-23T15:34:53.511Z'}\n",
      "DEBUG:simcore_sdk.nodeports.serialization:Decoding Data items json: {'key': 'out_1', 'label': 'File-url', 'desc': 'File-url', 'type': 'fileUrl', 'value': 'Hey this still works or NOTTTTTT crazy shit man!!', 'timestamp': '2018-06-19T10:31:14.728827'}\n",
      "DEBUG:simcore_sdk.nodeports._item:Creating new data item with {'key': 'out_1', 'label': 'File-url', 'desc': 'File-url', 'type': 'fileUrl', 'value': 'Hey this still works or NOTTTTTT crazy shit man!!', 'timestamp': '2018-06-19T10:31:14.728827'}\n",
      "DEBUG:simcore_sdk.nodeports.serialization:Decoding Data items json: {'key': 'out_2', 'label': 'Number', 'desc': 'Number', 'type': 'integer', 'value': 5, 'timestamp': '2018-05-23T15:34:53.511Z'}\n",
      "DEBUG:simcore_sdk.nodeports._item:Creating new data item with {'key': 'out_2', 'label': 'Number', 'desc': 'Number', 'type': 'integer', 'value': 5, 'timestamp': '2018-05-23T15:34:53.511Z'}\n",
      "DEBUG:simcore_sdk.nodeports.serialization:Decoding Nodeports json: {'version': '0.1', 'inputs': [DataItem(key='in_1', label='File-url', desc='File-url', type='fileUrl', value='link.dd329e10-a906-42da-a7b3-4c4fec4a786f.out_1', timestamp='2018-05-23T15:34:53.511Z'), DataItem(key='in_2', label='Number', desc='Number', type='integer', value='link.dd329e10-a906-42da-a7b3-4c4fec4a786f.out_2', timestamp='2018-05-23T15:34:53.511Z')], 'outputs': [DataItem(key='out_1', label='File-url', desc='File-url', type='fileUrl', value='Hey this still works or NOTTTTTT crazy shit man!!', timestamp='2018-06-19T10:31:14.728827'), DataItem(key='out_2', label='Number', desc='Number', type='integer', value=5, timestamp='2018-05-23T15:34:53.511Z')]}\n",
      "DEBUG:simcore_sdk.nodeports._itemslist:Creating DataItemsList with [DataItem(key='in_1', label='File-url', desc='File-url', type='fileUrl', value='link.dd329e10-a906-42da-a7b3-4c4fec4a786f.out_1', timestamp='2018-05-23T15:34:53.511Z'), DataItem(key='in_2', label='Number', desc='Number', type='integer', value='link.dd329e10-a906-42da-a7b3-4c4fec4a786f.out_2', timestamp='2018-05-23T15:34:53.511Z')]\n",
      "DEBUG:simcore_sdk.nodeports._itemslist:Creating DataItemsList with [DataItem(key='out_1', label='File-url', desc='File-url', type='fileUrl', value='Hey this still works or NOTTTTTT crazy shit man!!', timestamp='2018-06-19T10:31:14.728827'), DataItem(key='out_2', label='Number', desc='Number', type='integer', value=5, timestamp='2018-05-23T15:34:53.511Z')]\n",
      "DEBUG:simcore_sdk.nodeports.nodeports:Initialising Nodeports object with version 0.1, inputs <simcore_sdk.nodeports._itemslist.DataItemsList object at 0x0000027F75F499E8> and outputs <simcore_sdk.nodeports._itemslist.DataItemsList object at 0x0000027F75F49B38>\n",
      "DEBUG:simcore_sdk.nodeports.nodeports:Initialised Nodeports object with version 0.1, inputs <simcore_sdk.nodeports._itemslist.DataItemsList object at 0x0000027F75F499E8> and outputs <simcore_sdk.nodeports._itemslist.DataItemsList object at 0x0000027F75F49B38>\n",
      "DEBUG:simcore_sdk.nodeports.serialization:Created Nodeports object\n"
     ]
    }
   ],
   "source": [
    "from simcore_sdk.nodeports import PORTS"
   ]
  },
  {
   "cell_type": "code",
   "execution_count": 4,
   "metadata": {
    "scrolled": false
   },
   "outputs": [
    {
     "name": "stderr",
     "output_type": "stream",
     "text": [
      "DEBUG:simcore_sdk.nodeports.nodeports:Getting inputs with autoread: True\n",
      "DEBUG:simcore_sdk.nodeports.nodeports:Updating json configuration\n",
      "DEBUG:simcore_sdk.nodeports.serialization:Creating Nodeports object with io object: <simcore_sdk.nodeports.io.IO object at 0x0000027F5D5DBF28>, auto read False and auto write False\n",
      "DEBUG:simcore_sdk.nodeports.io:Getting ports configuration using Location.DATABASE\n",
      "DEBUG:simcore_sdk.nodeports.io:Reading from database\n",
      "DEBUG:simcore_sdk.nodeports.io:Reading from database for pipeline id 42 and node id 3a97f542-93c4-419c-b5c9-bcf9ff3ada7e\n",
      "DEBUG:simcore_sdk.nodeports.serialization:Encoding object: <simcore_sdk.models.pipeline_models.ComputationalTask object at 0x0000027F75F6EC18>\n",
      "DEBUG:simcore_sdk.nodeports.serialization:Encoding Node object\n",
      "DEBUG:simcore_sdk.nodeports.io:Found and converted to json\n",
      "DEBUG:simcore_sdk.nodeports.serialization:Decoding Data items json: {'key': 'in_1', 'label': 'File-url', 'desc': 'File-url', 'type': 'fileUrl', 'value': 'link.dd329e10-a906-42da-a7b3-4c4fec4a786f.out_1', 'timestamp': '2018-05-23T15:34:53.511Z'}\n",
      "DEBUG:simcore_sdk.nodeports._item:Creating new data item with {'key': 'in_1', 'label': 'File-url', 'desc': 'File-url', 'type': 'fileUrl', 'value': 'link.dd329e10-a906-42da-a7b3-4c4fec4a786f.out_1', 'timestamp': '2018-05-23T15:34:53.511Z'}\n",
      "DEBUG:simcore_sdk.nodeports.serialization:Decoding Data items json: {'key': 'in_2', 'label': 'Number', 'desc': 'Number', 'type': 'integer', 'value': 'link.dd329e10-a906-42da-a7b3-4c4fec4a786f.out_2', 'timestamp': '2018-05-23T15:34:53.511Z'}\n",
      "DEBUG:simcore_sdk.nodeports._item:Creating new data item with {'key': 'in_2', 'label': 'Number', 'desc': 'Number', 'type': 'integer', 'value': 'link.dd329e10-a906-42da-a7b3-4c4fec4a786f.out_2', 'timestamp': '2018-05-23T15:34:53.511Z'}\n",
      "DEBUG:simcore_sdk.nodeports.serialization:Decoding Data items json: {'key': 'out_1', 'label': 'File-url', 'desc': 'File-url', 'type': 'fileUrl', 'value': 'Hey this still works or NOTTTTTT crazy shit man!!', 'timestamp': '2018-06-19T10:31:14.728827'}\n",
      "DEBUG:simcore_sdk.nodeports._item:Creating new data item with {'key': 'out_1', 'label': 'File-url', 'desc': 'File-url', 'type': 'fileUrl', 'value': 'Hey this still works or NOTTTTTT crazy shit man!!', 'timestamp': '2018-06-19T10:31:14.728827'}\n",
      "DEBUG:simcore_sdk.nodeports.serialization:Decoding Data items json: {'key': 'out_2', 'label': 'Number', 'desc': 'Number', 'type': 'integer', 'value': 5, 'timestamp': '2018-05-23T15:34:53.511Z'}\n",
      "DEBUG:simcore_sdk.nodeports._item:Creating new data item with {'key': 'out_2', 'label': 'Number', 'desc': 'Number', 'type': 'integer', 'value': 5, 'timestamp': '2018-05-23T15:34:53.511Z'}\n",
      "DEBUG:simcore_sdk.nodeports.serialization:Decoding Nodeports json: {'version': '0.1', 'inputs': [DataItem(key='in_1', label='File-url', desc='File-url', type='fileUrl', value='link.dd329e10-a906-42da-a7b3-4c4fec4a786f.out_1', timestamp='2018-05-23T15:34:53.511Z'), DataItem(key='in_2', label='Number', desc='Number', type='integer', value='link.dd329e10-a906-42da-a7b3-4c4fec4a786f.out_2', timestamp='2018-05-23T15:34:53.511Z')], 'outputs': [DataItem(key='out_1', label='File-url', desc='File-url', type='fileUrl', value='Hey this still works or NOTTTTTT crazy shit man!!', timestamp='2018-06-19T10:31:14.728827'), DataItem(key='out_2', label='Number', desc='Number', type='integer', value=5, timestamp='2018-05-23T15:34:53.511Z')]}\n",
      "DEBUG:simcore_sdk.nodeports._itemslist:Creating DataItemsList with [DataItem(key='in_1', label='File-url', desc='File-url', type='fileUrl', value='link.dd329e10-a906-42da-a7b3-4c4fec4a786f.out_1', timestamp='2018-05-23T15:34:53.511Z'), DataItem(key='in_2', label='Number', desc='Number', type='integer', value='link.dd329e10-a906-42da-a7b3-4c4fec4a786f.out_2', timestamp='2018-05-23T15:34:53.511Z')]\n",
      "DEBUG:simcore_sdk.nodeports._itemslist:Creating DataItemsList with [DataItem(key='out_1', label='File-url', desc='File-url', type='fileUrl', value='Hey this still works or NOTTTTTT crazy shit man!!', timestamp='2018-06-19T10:31:14.728827'), DataItem(key='out_2', label='Number', desc='Number', type='integer', value=5, timestamp='2018-05-23T15:34:53.511Z')]\n",
      "DEBUG:simcore_sdk.nodeports.nodeports:Initialising Nodeports object with version 0.1, inputs <simcore_sdk.nodeports._itemslist.DataItemsList object at 0x0000027F75F6E940> and outputs <simcore_sdk.nodeports._itemslist.DataItemsList object at 0x0000027F75F6E8D0>\n",
      "DEBUG:simcore_sdk.nodeports.nodeports:Initialised Nodeports object with version 0.1, inputs <simcore_sdk.nodeports._itemslist.DataItemsList object at 0x0000027F75F6E940> and outputs <simcore_sdk.nodeports._itemslist.DataItemsList object at 0x0000027F75F6E8D0>\n",
      "DEBUG:simcore_sdk.nodeports.serialization:Created Nodeports object\n",
      "DEBUG:simcore_sdk.nodeports.nodeports:Getting inputs with autoread: False\n",
      "DEBUG:simcore_sdk.nodeports.nodeports:Getting outputs with autoread: False\n",
      "DEBUG:simcore_sdk.nodeports.nodeports:Updated json configuration\n",
      "DEBUG:simcore_sdk.nodeports.nodeports:Getting inputs with autoread: True\n",
      "DEBUG:simcore_sdk.nodeports.nodeports:Updating json configuration\n",
      "DEBUG:simcore_sdk.nodeports.serialization:Creating Nodeports object with io object: <simcore_sdk.nodeports.io.IO object at 0x0000027F5D5DBF28>, auto read False and auto write False\n",
      "DEBUG:simcore_sdk.nodeports.io:Getting ports configuration using Location.DATABASE\n",
      "DEBUG:simcore_sdk.nodeports.io:Reading from database\n",
      "DEBUG:simcore_sdk.nodeports.io:Reading from database for pipeline id 42 and node id 3a97f542-93c4-419c-b5c9-bcf9ff3ada7e\n",
      "DEBUG:simcore_sdk.nodeports.serialization:Encoding object: <simcore_sdk.models.pipeline_models.ComputationalTask object at 0x0000027F75F7E780>\n",
      "DEBUG:simcore_sdk.nodeports.serialization:Encoding Node object\n",
      "DEBUG:simcore_sdk.nodeports.io:Found and converted to json\n",
      "DEBUG:simcore_sdk.nodeports.serialization:Decoding Data items json: {'key': 'in_1', 'label': 'File-url', 'desc': 'File-url', 'type': 'fileUrl', 'value': 'link.dd329e10-a906-42da-a7b3-4c4fec4a786f.out_1', 'timestamp': '2018-05-23T15:34:53.511Z'}\n",
      "DEBUG:simcore_sdk.nodeports._item:Creating new data item with {'key': 'in_1', 'label': 'File-url', 'desc': 'File-url', 'type': 'fileUrl', 'value': 'link.dd329e10-a906-42da-a7b3-4c4fec4a786f.out_1', 'timestamp': '2018-05-23T15:34:53.511Z'}\n",
      "DEBUG:simcore_sdk.nodeports.serialization:Decoding Data items json: {'key': 'in_2', 'label': 'Number', 'desc': 'Number', 'type': 'integer', 'value': 'link.dd329e10-a906-42da-a7b3-4c4fec4a786f.out_2', 'timestamp': '2018-05-23T15:34:53.511Z'}\n",
      "DEBUG:simcore_sdk.nodeports._item:Creating new data item with {'key': 'in_2', 'label': 'Number', 'desc': 'Number', 'type': 'integer', 'value': 'link.dd329e10-a906-42da-a7b3-4c4fec4a786f.out_2', 'timestamp': '2018-05-23T15:34:53.511Z'}\n",
      "DEBUG:simcore_sdk.nodeports.serialization:Decoding Data items json: {'key': 'out_1', 'label': 'File-url', 'desc': 'File-url', 'type': 'fileUrl', 'value': 'Hey this still works or NOTTTTTT crazy shit man!!', 'timestamp': '2018-06-19T10:31:14.728827'}\n",
      "DEBUG:simcore_sdk.nodeports._item:Creating new data item with {'key': 'out_1', 'label': 'File-url', 'desc': 'File-url', 'type': 'fileUrl', 'value': 'Hey this still works or NOTTTTTT crazy shit man!!', 'timestamp': '2018-06-19T10:31:14.728827'}\n",
      "DEBUG:simcore_sdk.nodeports.serialization:Decoding Data items json: {'key': 'out_2', 'label': 'Number', 'desc': 'Number', 'type': 'integer', 'value': 5, 'timestamp': '2018-05-23T15:34:53.511Z'}\n",
      "DEBUG:simcore_sdk.nodeports._item:Creating new data item with {'key': 'out_2', 'label': 'Number', 'desc': 'Number', 'type': 'integer', 'value': 5, 'timestamp': '2018-05-23T15:34:53.511Z'}\n",
      "DEBUG:simcore_sdk.nodeports.serialization:Decoding Nodeports json: {'version': '0.1', 'inputs': [DataItem(key='in_1', label='File-url', desc='File-url', type='fileUrl', value='link.dd329e10-a906-42da-a7b3-4c4fec4a786f.out_1', timestamp='2018-05-23T15:34:53.511Z'), DataItem(key='in_2', label='Number', desc='Number', type='integer', value='link.dd329e10-a906-42da-a7b3-4c4fec4a786f.out_2', timestamp='2018-05-23T15:34:53.511Z')], 'outputs': [DataItem(key='out_1', label='File-url', desc='File-url', type='fileUrl', value='Hey this still works or NOTTTTTT crazy shit man!!', timestamp='2018-06-19T10:31:14.728827'), DataItem(key='out_2', label='Number', desc='Number', type='integer', value=5, timestamp='2018-05-23T15:34:53.511Z')]}\n"
     ]
    },
    {
     "name": "stderr",
     "output_type": "stream",
     "text": [
      "DEBUG:simcore_sdk.nodeports._itemslist:Creating DataItemsList with [DataItem(key='in_1', label='File-url', desc='File-url', type='fileUrl', value='link.dd329e10-a906-42da-a7b3-4c4fec4a786f.out_1', timestamp='2018-05-23T15:34:53.511Z'), DataItem(key='in_2', label='Number', desc='Number', type='integer', value='link.dd329e10-a906-42da-a7b3-4c4fec4a786f.out_2', timestamp='2018-05-23T15:34:53.511Z')]\n",
      "DEBUG:simcore_sdk.nodeports._itemslist:Creating DataItemsList with [DataItem(key='out_1', label='File-url', desc='File-url', type='fileUrl', value='Hey this still works or NOTTTTTT crazy shit man!!', timestamp='2018-06-19T10:31:14.728827'), DataItem(key='out_2', label='Number', desc='Number', type='integer', value=5, timestamp='2018-05-23T15:34:53.511Z')]\n",
      "DEBUG:simcore_sdk.nodeports.nodeports:Initialising Nodeports object with version 0.1, inputs <simcore_sdk.nodeports._itemslist.DataItemsList object at 0x0000027F75F7E6A0> and outputs <simcore_sdk.nodeports._itemslist.DataItemsList object at 0x0000027F75F7E550>\n",
      "DEBUG:simcore_sdk.nodeports.nodeports:Initialised Nodeports object with version 0.1, inputs <simcore_sdk.nodeports._itemslist.DataItemsList object at 0x0000027F75F7E6A0> and outputs <simcore_sdk.nodeports._itemslist.DataItemsList object at 0x0000027F75F7E550>\n",
      "DEBUG:simcore_sdk.nodeports.serialization:Created Nodeports object\n",
      "DEBUG:simcore_sdk.nodeports.nodeports:Getting inputs with autoread: False\n",
      "DEBUG:simcore_sdk.nodeports.nodeports:Getting outputs with autoread: False\n",
      "DEBUG:simcore_sdk.nodeports.nodeports:Updated json configuration\n",
      "DEBUG:simcore_sdk.nodeports._itemslist:Getting item 0\n"
     ]
    },
    {
     "name": "stdout",
     "output_type": "stream",
     "text": [
      "2\n",
      "DataItem(key='in_1', label='File-url', desc='File-url', type='fileUrl', value='link.dd329e10-a906-42da-a7b3-4c4fec4a786f.out_1', timestamp='2018-05-23T15:34:53.511Z')\n"
     ]
    }
   ],
   "source": [
    "print(len(PORTS.inputs))\n",
    "print(PORTS.inputs[0])"
   ]
  },
  {
   "cell_type": "code",
   "execution_count": 5,
   "metadata": {
    "scrolled": false
   },
   "outputs": [
    {
     "name": "stderr",
     "output_type": "stream",
     "text": [
      "DEBUG:simcore_sdk.nodeports.nodeports:Getting inputs with autoread: True\n",
      "DEBUG:simcore_sdk.nodeports.nodeports:Updating json configuration\n",
      "DEBUG:simcore_sdk.nodeports.serialization:Creating Nodeports object with io object: <simcore_sdk.nodeports.io.IO object at 0x0000027F5D5DBF28>, auto read False and auto write False\n",
      "DEBUG:simcore_sdk.nodeports.io:Getting ports configuration using Location.DATABASE\n",
      "DEBUG:simcore_sdk.nodeports.io:Reading from database\n",
      "DEBUG:simcore_sdk.nodeports.io:Reading from database for pipeline id 42 and node id 3a97f542-93c4-419c-b5c9-bcf9ff3ada7e\n",
      "DEBUG:simcore_sdk.nodeports.serialization:Encoding object: <simcore_sdk.models.pipeline_models.ComputationalTask object at 0x0000027F75F7E7B8>\n",
      "DEBUG:simcore_sdk.nodeports.serialization:Encoding Node object\n",
      "DEBUG:simcore_sdk.nodeports.io:Found and converted to json\n",
      "DEBUG:simcore_sdk.nodeports.serialization:Decoding Data items json: {'key': 'in_1', 'label': 'File-url', 'desc': 'File-url', 'type': 'fileUrl', 'value': 'link.dd329e10-a906-42da-a7b3-4c4fec4a786f.out_1', 'timestamp': '2018-05-23T15:34:53.511Z'}\n",
      "DEBUG:simcore_sdk.nodeports._item:Creating new data item with {'key': 'in_1', 'label': 'File-url', 'desc': 'File-url', 'type': 'fileUrl', 'value': 'link.dd329e10-a906-42da-a7b3-4c4fec4a786f.out_1', 'timestamp': '2018-05-23T15:34:53.511Z'}\n",
      "DEBUG:simcore_sdk.nodeports.serialization:Decoding Data items json: {'key': 'in_2', 'label': 'Number', 'desc': 'Number', 'type': 'integer', 'value': 'link.dd329e10-a906-42da-a7b3-4c4fec4a786f.out_2', 'timestamp': '2018-05-23T15:34:53.511Z'}\n",
      "DEBUG:simcore_sdk.nodeports._item:Creating new data item with {'key': 'in_2', 'label': 'Number', 'desc': 'Number', 'type': 'integer', 'value': 'link.dd329e10-a906-42da-a7b3-4c4fec4a786f.out_2', 'timestamp': '2018-05-23T15:34:53.511Z'}\n",
      "DEBUG:simcore_sdk.nodeports.serialization:Decoding Data items json: {'key': 'out_1', 'label': 'File-url', 'desc': 'File-url', 'type': 'fileUrl', 'value': 'Hey this still works or NOTTTTTT crazy shit man!!', 'timestamp': '2018-06-19T10:31:14.728827'}\n",
      "DEBUG:simcore_sdk.nodeports._item:Creating new data item with {'key': 'out_1', 'label': 'File-url', 'desc': 'File-url', 'type': 'fileUrl', 'value': 'Hey this still works or NOTTTTTT crazy shit man!!', 'timestamp': '2018-06-19T10:31:14.728827'}\n",
      "DEBUG:simcore_sdk.nodeports.serialization:Decoding Data items json: {'key': 'out_2', 'label': 'Number', 'desc': 'Number', 'type': 'integer', 'value': 5, 'timestamp': '2018-05-23T15:34:53.511Z'}\n",
      "DEBUG:simcore_sdk.nodeports._item:Creating new data item with {'key': 'out_2', 'label': 'Number', 'desc': 'Number', 'type': 'integer', 'value': 5, 'timestamp': '2018-05-23T15:34:53.511Z'}\n",
      "DEBUG:simcore_sdk.nodeports.serialization:Decoding Nodeports json: {'version': '0.1', 'inputs': [DataItem(key='in_1', label='File-url', desc='File-url', type='fileUrl', value='link.dd329e10-a906-42da-a7b3-4c4fec4a786f.out_1', timestamp='2018-05-23T15:34:53.511Z'), DataItem(key='in_2', label='Number', desc='Number', type='integer', value='link.dd329e10-a906-42da-a7b3-4c4fec4a786f.out_2', timestamp='2018-05-23T15:34:53.511Z')], 'outputs': [DataItem(key='out_1', label='File-url', desc='File-url', type='fileUrl', value='Hey this still works or NOTTTTTT crazy shit man!!', timestamp='2018-06-19T10:31:14.728827'), DataItem(key='out_2', label='Number', desc='Number', type='integer', value=5, timestamp='2018-05-23T15:34:53.511Z')]}\n",
      "DEBUG:simcore_sdk.nodeports._itemslist:Creating DataItemsList with [DataItem(key='in_1', label='File-url', desc='File-url', type='fileUrl', value='link.dd329e10-a906-42da-a7b3-4c4fec4a786f.out_1', timestamp='2018-05-23T15:34:53.511Z'), DataItem(key='in_2', label='Number', desc='Number', type='integer', value='link.dd329e10-a906-42da-a7b3-4c4fec4a786f.out_2', timestamp='2018-05-23T15:34:53.511Z')]\n",
      "DEBUG:simcore_sdk.nodeports._itemslist:Creating DataItemsList with [DataItem(key='out_1', label='File-url', desc='File-url', type='fileUrl', value='Hey this still works or NOTTTTTT crazy shit man!!', timestamp='2018-06-19T10:31:14.728827'), DataItem(key='out_2', label='Number', desc='Number', type='integer', value=5, timestamp='2018-05-23T15:34:53.511Z')]\n",
      "DEBUG:simcore_sdk.nodeports.nodeports:Initialising Nodeports object with version 0.1, inputs <simcore_sdk.nodeports._itemslist.DataItemsList object at 0x0000027F75F49C18> and outputs <simcore_sdk.nodeports._itemslist.DataItemsList object at 0x0000027F75F49A90>\n",
      "DEBUG:simcore_sdk.nodeports.nodeports:Initialised Nodeports object with version 0.1, inputs <simcore_sdk.nodeports._itemslist.DataItemsList object at 0x0000027F75F49C18> and outputs <simcore_sdk.nodeports._itemslist.DataItemsList object at 0x0000027F75F49A90>\n",
      "DEBUG:simcore_sdk.nodeports.serialization:Created Nodeports object\n",
      "DEBUG:simcore_sdk.nodeports.nodeports:Getting inputs with autoread: False\n",
      "DEBUG:simcore_sdk.nodeports.nodeports:Getting outputs with autoread: False\n",
      "DEBUG:simcore_sdk.nodeports.nodeports:Updated json configuration\n",
      "DEBUG:simcore_sdk.nodeports._itemslist:Getting item 0\n",
      "DEBUG:simcore_sdk.nodeports._item:Getting data item\n",
      "DEBUG:simcore_sdk.nodeports._item:Got data item with value link.dd329e10-a906-42da-a7b3-4c4fec4a786f.out_1\n",
      "DEBUG:simcore_sdk.nodeports._item:Fetch value from S3 link.dd329e10-a906-42da-a7b3-4c4fec4a786f.out_1\n",
      "DEBUG:simcore_sdk.nodeports.filemanager:Initialise S3 connection\n",
      "DEBUG:urllib3.connectionpool:Starting new HTTP connection (1): localhost\n",
      "DEBUG:urllib3.connectionpool:http://localhost:9001 \"GET /simcore?location= HTTP/1.1\" 200 None\n",
      "DEBUG:urllib3.connectionpool:http://localhost:9001 \"HEAD /simcore/ HTTP/1.1\" 200 0\n",
      "DEBUG:simcore_sdk.nodeports.filemanager:Initialised S3 connection\n",
      "DEBUG:simcore_sdk.nodeports.filemanager:Downloading from  S3 simcore/42/dd329e10-a906-42da-a7b3-4c4fec4a786f/out_1 to C:\\Users\\anderegg\\AppData\\Local\\Temp\\simcorefiles\\in_1\\in_1.simcore\n",
      "DEBUG:urllib3.connectionpool:http://localhost:9001 \"HEAD /simcore/42/dd329e10-a906-42da-a7b3-4c4fec4a786f/out_1 HTTP/1.1\" 200 0\n",
      "DEBUG:urllib3.connectionpool:http://localhost:9001 \"GET /simcore/42/dd329e10-a906-42da-a7b3-4c4fec4a786f/out_1 HTTP/1.1\" 200 2\n",
      "DEBUG:simcore_sdk.nodeports.filemanager:Downloaded from bucket simcore, object 42/dd329e10-a906-42da-a7b3-4c4fec4a786f/out_1 to C:\\Users\\anderegg\\AppData\\Local\\Temp\\simcorefiles\\in_1\\in_1.simcore successfully\n"
     ]
    },
    {
     "name": "stdout",
     "output_type": "stream",
     "text": [
      "C:\\Users\\anderegg\\AppData\\Local\\Temp\\simcorefiles\\in_1\\in_1.simcore\n"
     ]
    }
   ],
   "source": [
    "print(PORTS.inputs[0].get())\n"
   ]
  },
  {
   "cell_type": "code",
   "execution_count": 6,
   "metadata": {},
   "outputs": [
    {
     "name": "stderr",
     "output_type": "stream",
     "text": [
      "DEBUG:simcore_sdk.nodeports.nodeports:Getting outputs with autoread: True\n",
      "DEBUG:simcore_sdk.nodeports.nodeports:Updating json configuration\n",
      "DEBUG:simcore_sdk.nodeports.serialization:Creating Nodeports object with io object: <simcore_sdk.nodeports.io.IO object at 0x0000027F5D5DBF28>, auto read False and auto write False\n",
      "DEBUG:simcore_sdk.nodeports.io:Getting ports configuration using Location.DATABASE\n",
      "DEBUG:simcore_sdk.nodeports.io:Reading from database\n",
      "DEBUG:simcore_sdk.nodeports.io:Reading from database for pipeline id 42 and node id 3a97f542-93c4-419c-b5c9-bcf9ff3ada7e\n",
      "DEBUG:simcore_sdk.nodeports.serialization:Encoding object: <simcore_sdk.models.pipeline_models.ComputationalTask object at 0x0000027F75FB8240>\n",
      "DEBUG:simcore_sdk.nodeports.serialization:Encoding Node object\n",
      "DEBUG:simcore_sdk.nodeports.io:Found and converted to json\n",
      "DEBUG:simcore_sdk.nodeports.serialization:Decoding Data items json: {'key': 'in_1', 'label': 'File-url', 'desc': 'File-url', 'type': 'fileUrl', 'value': 'link.dd329e10-a906-42da-a7b3-4c4fec4a786f.out_1', 'timestamp': '2018-05-23T15:34:53.511Z'}\n",
      "DEBUG:simcore_sdk.nodeports._item:Creating new data item with {'key': 'in_1', 'label': 'File-url', 'desc': 'File-url', 'type': 'fileUrl', 'value': 'link.dd329e10-a906-42da-a7b3-4c4fec4a786f.out_1', 'timestamp': '2018-05-23T15:34:53.511Z'}\n",
      "DEBUG:simcore_sdk.nodeports.serialization:Decoding Data items json: {'key': 'in_2', 'label': 'Number', 'desc': 'Number', 'type': 'integer', 'value': 'link.dd329e10-a906-42da-a7b3-4c4fec4a786f.out_2', 'timestamp': '2018-05-23T15:34:53.511Z'}\n",
      "DEBUG:simcore_sdk.nodeports._item:Creating new data item with {'key': 'in_2', 'label': 'Number', 'desc': 'Number', 'type': 'integer', 'value': 'link.dd329e10-a906-42da-a7b3-4c4fec4a786f.out_2', 'timestamp': '2018-05-23T15:34:53.511Z'}\n",
      "DEBUG:simcore_sdk.nodeports.serialization:Decoding Data items json: {'key': 'out_1', 'label': 'File-url', 'desc': 'File-url', 'type': 'fileUrl', 'value': 'Hey this still works or NOTTTTTT crazy shit man!!', 'timestamp': '2018-06-19T10:31:14.728827'}\n",
      "DEBUG:simcore_sdk.nodeports._item:Creating new data item with {'key': 'out_1', 'label': 'File-url', 'desc': 'File-url', 'type': 'fileUrl', 'value': 'Hey this still works or NOTTTTTT crazy shit man!!', 'timestamp': '2018-06-19T10:31:14.728827'}\n",
      "DEBUG:simcore_sdk.nodeports.serialization:Decoding Data items json: {'key': 'out_2', 'label': 'Number', 'desc': 'Number', 'type': 'integer', 'value': 5, 'timestamp': '2018-05-23T15:34:53.511Z'}\n",
      "DEBUG:simcore_sdk.nodeports._item:Creating new data item with {'key': 'out_2', 'label': 'Number', 'desc': 'Number', 'type': 'integer', 'value': 5, 'timestamp': '2018-05-23T15:34:53.511Z'}\n",
      "DEBUG:simcore_sdk.nodeports.serialization:Decoding Nodeports json: {'version': '0.1', 'inputs': [DataItem(key='in_1', label='File-url', desc='File-url', type='fileUrl', value='link.dd329e10-a906-42da-a7b3-4c4fec4a786f.out_1', timestamp='2018-05-23T15:34:53.511Z'), DataItem(key='in_2', label='Number', desc='Number', type='integer', value='link.dd329e10-a906-42da-a7b3-4c4fec4a786f.out_2', timestamp='2018-05-23T15:34:53.511Z')], 'outputs': [DataItem(key='out_1', label='File-url', desc='File-url', type='fileUrl', value='Hey this still works or NOTTTTTT crazy shit man!!', timestamp='2018-06-19T10:31:14.728827'), DataItem(key='out_2', label='Number', desc='Number', type='integer', value=5, timestamp='2018-05-23T15:34:53.511Z')]}\n",
      "DEBUG:simcore_sdk.nodeports._itemslist:Creating DataItemsList with [DataItem(key='in_1', label='File-url', desc='File-url', type='fileUrl', value='link.dd329e10-a906-42da-a7b3-4c4fec4a786f.out_1', timestamp='2018-05-23T15:34:53.511Z'), DataItem(key='in_2', label='Number', desc='Number', type='integer', value='link.dd329e10-a906-42da-a7b3-4c4fec4a786f.out_2', timestamp='2018-05-23T15:34:53.511Z')]\n",
      "DEBUG:simcore_sdk.nodeports._itemslist:Creating DataItemsList with [DataItem(key='out_1', label='File-url', desc='File-url', type='fileUrl', value='Hey this still works or NOTTTTTT crazy shit man!!', timestamp='2018-06-19T10:31:14.728827'), DataItem(key='out_2', label='Number', desc='Number', type='integer', value=5, timestamp='2018-05-23T15:34:53.511Z')]\n",
      "DEBUG:simcore_sdk.nodeports.nodeports:Initialising Nodeports object with version 0.1, inputs <simcore_sdk.nodeports._itemslist.DataItemsList object at 0x0000027F75F97978> and outputs <simcore_sdk.nodeports._itemslist.DataItemsList object at 0x0000027F75F97748>\n",
      "DEBUG:simcore_sdk.nodeports.nodeports:Initialised Nodeports object with version 0.1, inputs <simcore_sdk.nodeports._itemslist.DataItemsList object at 0x0000027F75F97978> and outputs <simcore_sdk.nodeports._itemslist.DataItemsList object at 0x0000027F75F97748>\n",
      "DEBUG:simcore_sdk.nodeports.serialization:Created Nodeports object\n",
      "DEBUG:simcore_sdk.nodeports.nodeports:Getting inputs with autoread: False\n",
      "DEBUG:simcore_sdk.nodeports.nodeports:Getting outputs with autoread: False\n",
      "DEBUG:simcore_sdk.nodeports.nodeports:Updated json configuration\n",
      "DEBUG:simcore_sdk.nodeports._itemslist:Getting item 0\n"
     ]
    },
    {
     "name": "stdout",
     "output_type": "stream",
     "text": [
      "DataItem(key='out_1', label='File-url', desc='File-url', type='fileUrl', value='Hey this still works or NOTTTTTT crazy shit man!!', timestamp='2018-06-19T10:31:14.728827')\n"
     ]
    }
   ],
   "source": [
    "print(PORTS.outputs[0])"
   ]
  },
  {
   "cell_type": "code",
   "execution_count": 7,
   "metadata": {},
   "outputs": [
    {
     "name": "stderr",
     "output_type": "stream",
     "text": [
      "DEBUG:simcore_sdk.nodeports.nodeports:Getting outputs with autoread: True\n",
      "DEBUG:simcore_sdk.nodeports.nodeports:Updating json configuration\n",
      "DEBUG:simcore_sdk.nodeports.serialization:Creating Nodeports object with io object: <simcore_sdk.nodeports.io.IO object at 0x0000027F5D5DBF28>, auto read False and auto write False\n",
      "DEBUG:simcore_sdk.nodeports.io:Getting ports configuration using Location.DATABASE\n",
      "DEBUG:simcore_sdk.nodeports.io:Reading from database\n",
      "DEBUG:simcore_sdk.nodeports.io:Reading from database for pipeline id 42 and node id 3a97f542-93c4-419c-b5c9-bcf9ff3ada7e\n",
      "DEBUG:simcore_sdk.nodeports.serialization:Encoding object: <simcore_sdk.models.pipeline_models.ComputationalTask object at 0x0000027F75FBDC88>\n",
      "DEBUG:simcore_sdk.nodeports.serialization:Encoding Node object\n",
      "DEBUG:simcore_sdk.nodeports.io:Found and converted to json\n",
      "DEBUG:simcore_sdk.nodeports.serialization:Decoding Data items json: {'key': 'in_1', 'label': 'File-url', 'desc': 'File-url', 'type': 'fileUrl', 'value': 'link.dd329e10-a906-42da-a7b3-4c4fec4a786f.out_1', 'timestamp': '2018-05-23T15:34:53.511Z'}\n",
      "DEBUG:simcore_sdk.nodeports._item:Creating new data item with {'key': 'in_1', 'label': 'File-url', 'desc': 'File-url', 'type': 'fileUrl', 'value': 'link.dd329e10-a906-42da-a7b3-4c4fec4a786f.out_1', 'timestamp': '2018-05-23T15:34:53.511Z'}\n",
      "DEBUG:simcore_sdk.nodeports.serialization:Decoding Data items json: {'key': 'in_2', 'label': 'Number', 'desc': 'Number', 'type': 'integer', 'value': 'link.dd329e10-a906-42da-a7b3-4c4fec4a786f.out_2', 'timestamp': '2018-05-23T15:34:53.511Z'}\n",
      "DEBUG:simcore_sdk.nodeports._item:Creating new data item with {'key': 'in_2', 'label': 'Number', 'desc': 'Number', 'type': 'integer', 'value': 'link.dd329e10-a906-42da-a7b3-4c4fec4a786f.out_2', 'timestamp': '2018-05-23T15:34:53.511Z'}\n",
      "DEBUG:simcore_sdk.nodeports.serialization:Decoding Data items json: {'key': 'out_1', 'label': 'File-url', 'desc': 'File-url', 'type': 'fileUrl', 'value': 'Hey this still works or NOTTTTTT crazy shit man!!', 'timestamp': '2018-06-19T10:31:14.728827'}\n",
      "DEBUG:simcore_sdk.nodeports._item:Creating new data item with {'key': 'out_1', 'label': 'File-url', 'desc': 'File-url', 'type': 'fileUrl', 'value': 'Hey this still works or NOTTTTTT crazy shit man!!', 'timestamp': '2018-06-19T10:31:14.728827'}\n",
      "DEBUG:simcore_sdk.nodeports.serialization:Decoding Data items json: {'key': 'out_2', 'label': 'Number', 'desc': 'Number', 'type': 'integer', 'value': 5, 'timestamp': '2018-05-23T15:34:53.511Z'}\n",
      "DEBUG:simcore_sdk.nodeports._item:Creating new data item with {'key': 'out_2', 'label': 'Number', 'desc': 'Number', 'type': 'integer', 'value': 5, 'timestamp': '2018-05-23T15:34:53.511Z'}\n",
      "DEBUG:simcore_sdk.nodeports.serialization:Decoding Nodeports json: {'version': '0.1', 'inputs': [DataItem(key='in_1', label='File-url', desc='File-url', type='fileUrl', value='link.dd329e10-a906-42da-a7b3-4c4fec4a786f.out_1', timestamp='2018-05-23T15:34:53.511Z'), DataItem(key='in_2', label='Number', desc='Number', type='integer', value='link.dd329e10-a906-42da-a7b3-4c4fec4a786f.out_2', timestamp='2018-05-23T15:34:53.511Z')], 'outputs': [DataItem(key='out_1', label='File-url', desc='File-url', type='fileUrl', value='Hey this still works or NOTTTTTT crazy shit man!!', timestamp='2018-06-19T10:31:14.728827'), DataItem(key='out_2', label='Number', desc='Number', type='integer', value=5, timestamp='2018-05-23T15:34:53.511Z')]}\n",
      "DEBUG:simcore_sdk.nodeports._itemslist:Creating DataItemsList with [DataItem(key='in_1', label='File-url', desc='File-url', type='fileUrl', value='link.dd329e10-a906-42da-a7b3-4c4fec4a786f.out_1', timestamp='2018-05-23T15:34:53.511Z'), DataItem(key='in_2', label='Number', desc='Number', type='integer', value='link.dd329e10-a906-42da-a7b3-4c4fec4a786f.out_2', timestamp='2018-05-23T15:34:53.511Z')]\n",
      "DEBUG:simcore_sdk.nodeports._itemslist:Creating DataItemsList with [DataItem(key='out_1', label='File-url', desc='File-url', type='fileUrl', value='Hey this still works or NOTTTTTT crazy shit man!!', timestamp='2018-06-19T10:31:14.728827'), DataItem(key='out_2', label='Number', desc='Number', type='integer', value=5, timestamp='2018-05-23T15:34:53.511Z')]\n",
      "DEBUG:simcore_sdk.nodeports.nodeports:Initialising Nodeports object with version 0.1, inputs <simcore_sdk.nodeports._itemslist.DataItemsList object at 0x0000027F75FBD978> and outputs <simcore_sdk.nodeports._itemslist.DataItemsList object at 0x0000027F75FBDB70>\n",
      "DEBUG:simcore_sdk.nodeports.nodeports:Initialised Nodeports object with version 0.1, inputs <simcore_sdk.nodeports._itemslist.DataItemsList object at 0x0000027F75FBD978> and outputs <simcore_sdk.nodeports._itemslist.DataItemsList object at 0x0000027F75FBDB70>\n",
      "DEBUG:simcore_sdk.nodeports.serialization:Created Nodeports object\n",
      "DEBUG:simcore_sdk.nodeports.nodeports:Getting inputs with autoread: False\n",
      "DEBUG:simcore_sdk.nodeports.nodeports:Getting outputs with autoread: False\n",
      "DEBUG:simcore_sdk.nodeports.nodeports:Updated json configuration\n",
      "DEBUG:simcore_sdk.nodeports._itemslist:Getting item out_1\n",
      "DEBUG:simcore_sdk.nodeports._item:Getting data item\n",
      "DEBUG:simcore_sdk.nodeports._item:Got data item with value Hey this still works or NOTTTTTT crazy shit man!!\n"
     ]
    },
    {
     "data": {
      "text/plain": [
       "'Hey this still works or NOTTTTTT crazy shit man!!'"
      ]
     },
     "execution_count": 7,
     "metadata": {},
     "output_type": "execute_result"
    }
   ],
   "source": [
    "PORTS.outputs[\"out_1\"].get()"
   ]
  },
  {
   "cell_type": "code",
   "execution_count": 8,
   "metadata": {},
   "outputs": [
    {
     "name": "stderr",
     "output_type": "stream",
     "text": [
      "DEBUG:simcore_sdk.nodeports.nodeports:Getting outputs with autoread: True\n",
      "DEBUG:simcore_sdk.nodeports.nodeports:Updating json configuration\n",
      "DEBUG:simcore_sdk.nodeports.serialization:Creating Nodeports object with io object: <simcore_sdk.nodeports.io.IO object at 0x0000027F5D5DBF28>, auto read False and auto write False\n",
      "DEBUG:simcore_sdk.nodeports.io:Getting ports configuration using Location.DATABASE\n",
      "DEBUG:simcore_sdk.nodeports.io:Reading from database\n",
      "DEBUG:simcore_sdk.nodeports.io:Reading from database for pipeline id 42 and node id 3a97f542-93c4-419c-b5c9-bcf9ff3ada7e\n",
      "DEBUG:simcore_sdk.nodeports.serialization:Encoding object: <simcore_sdk.models.pipeline_models.ComputationalTask object at 0x0000027F75FD5A20>\n",
      "DEBUG:simcore_sdk.nodeports.serialization:Encoding Node object\n",
      "DEBUG:simcore_sdk.nodeports.io:Found and converted to json\n",
      "DEBUG:simcore_sdk.nodeports.serialization:Decoding Data items json: {'key': 'in_1', 'label': 'File-url', 'desc': 'File-url', 'type': 'fileUrl', 'value': 'link.dd329e10-a906-42da-a7b3-4c4fec4a786f.out_1', 'timestamp': '2018-05-23T15:34:53.511Z'}\n",
      "DEBUG:simcore_sdk.nodeports._item:Creating new data item with {'key': 'in_1', 'label': 'File-url', 'desc': 'File-url', 'type': 'fileUrl', 'value': 'link.dd329e10-a906-42da-a7b3-4c4fec4a786f.out_1', 'timestamp': '2018-05-23T15:34:53.511Z'}\n",
      "DEBUG:simcore_sdk.nodeports.serialization:Decoding Data items json: {'key': 'in_2', 'label': 'Number', 'desc': 'Number', 'type': 'integer', 'value': 'link.dd329e10-a906-42da-a7b3-4c4fec4a786f.out_2', 'timestamp': '2018-05-23T15:34:53.511Z'}\n",
      "DEBUG:simcore_sdk.nodeports._item:Creating new data item with {'key': 'in_2', 'label': 'Number', 'desc': 'Number', 'type': 'integer', 'value': 'link.dd329e10-a906-42da-a7b3-4c4fec4a786f.out_2', 'timestamp': '2018-05-23T15:34:53.511Z'}\n",
      "DEBUG:simcore_sdk.nodeports.serialization:Decoding Data items json: {'key': 'out_1', 'label': 'File-url', 'desc': 'File-url', 'type': 'fileUrl', 'value': 'Hey this still works or NOTTTTTT crazy shit man!!', 'timestamp': '2018-06-19T10:31:14.728827'}\n",
      "DEBUG:simcore_sdk.nodeports._item:Creating new data item with {'key': 'out_1', 'label': 'File-url', 'desc': 'File-url', 'type': 'fileUrl', 'value': 'Hey this still works or NOTTTTTT crazy shit man!!', 'timestamp': '2018-06-19T10:31:14.728827'}\n",
      "DEBUG:simcore_sdk.nodeports.serialization:Decoding Data items json: {'key': 'out_2', 'label': 'Number', 'desc': 'Number', 'type': 'integer', 'value': 5, 'timestamp': '2018-05-23T15:34:53.511Z'}\n",
      "DEBUG:simcore_sdk.nodeports._item:Creating new data item with {'key': 'out_2', 'label': 'Number', 'desc': 'Number', 'type': 'integer', 'value': 5, 'timestamp': '2018-05-23T15:34:53.511Z'}\n",
      "DEBUG:simcore_sdk.nodeports.serialization:Decoding Nodeports json: {'version': '0.1', 'inputs': [DataItem(key='in_1', label='File-url', desc='File-url', type='fileUrl', value='link.dd329e10-a906-42da-a7b3-4c4fec4a786f.out_1', timestamp='2018-05-23T15:34:53.511Z'), DataItem(key='in_2', label='Number', desc='Number', type='integer', value='link.dd329e10-a906-42da-a7b3-4c4fec4a786f.out_2', timestamp='2018-05-23T15:34:53.511Z')], 'outputs': [DataItem(key='out_1', label='File-url', desc='File-url', type='fileUrl', value='Hey this still works or NOTTTTTT crazy shit man!!', timestamp='2018-06-19T10:31:14.728827'), DataItem(key='out_2', label='Number', desc='Number', type='integer', value=5, timestamp='2018-05-23T15:34:53.511Z')]}\n",
      "DEBUG:simcore_sdk.nodeports._itemslist:Creating DataItemsList with [DataItem(key='in_1', label='File-url', desc='File-url', type='fileUrl', value='link.dd329e10-a906-42da-a7b3-4c4fec4a786f.out_1', timestamp='2018-05-23T15:34:53.511Z'), DataItem(key='in_2', label='Number', desc='Number', type='integer', value='link.dd329e10-a906-42da-a7b3-4c4fec4a786f.out_2', timestamp='2018-05-23T15:34:53.511Z')]\n",
      "DEBUG:simcore_sdk.nodeports._itemslist:Creating DataItemsList with [DataItem(key='out_1', label='File-url', desc='File-url', type='fileUrl', value='Hey this still works or NOTTTTTT crazy shit man!!', timestamp='2018-06-19T10:31:14.728827'), DataItem(key='out_2', label='Number', desc='Number', type='integer', value=5, timestamp='2018-05-23T15:34:53.511Z')]\n",
      "DEBUG:simcore_sdk.nodeports.nodeports:Initialising Nodeports object with version 0.1, inputs <simcore_sdk.nodeports._itemslist.DataItemsList object at 0x0000027F75FD5748> and outputs <simcore_sdk.nodeports._itemslist.DataItemsList object at 0x0000027F75FD56D8>\n",
      "DEBUG:simcore_sdk.nodeports.nodeports:Initialised Nodeports object with version 0.1, inputs <simcore_sdk.nodeports._itemslist.DataItemsList object at 0x0000027F75FD5748> and outputs <simcore_sdk.nodeports._itemslist.DataItemsList object at 0x0000027F75FD56D8>\n",
      "DEBUG:simcore_sdk.nodeports.serialization:Created Nodeports object\n",
      "DEBUG:simcore_sdk.nodeports.nodeports:Getting inputs with autoread: False\n",
      "DEBUG:simcore_sdk.nodeports.nodeports:Getting outputs with autoread: False\n",
      "DEBUG:simcore_sdk.nodeports.nodeports:Updated json configuration\n",
      "DEBUG:simcore_sdk.nodeports._itemslist:Getting item out_1\n",
      "INFO:simcore_sdk.nodeports._item:Setting data item with value Hey this still works or NOTTTTTT crazy shit man!!\n"
     ]
    }
   ],
   "source": [
    "PORTS.outputs[\"out_1\"].set(\"Hey this still works or NOTTTTTT crazy shit man!!\")"
   ]
  }
 ],
 "metadata": {
  "kernelspec": {
   "display_name": "Python 3",
   "language": "python",
   "name": "python3"
  },
  "language_info": {
   "codemirror_mode": {
    "name": "ipython",
    "version": 3
   },
   "file_extension": ".py",
   "mimetype": "text/x-python",
   "name": "python",
   "nbconvert_exporter": "python",
   "pygments_lexer": "ipython3",
   "version": "3.6.5"
  }
 },
 "nbformat": 4,
 "nbformat_minor": 2
}
