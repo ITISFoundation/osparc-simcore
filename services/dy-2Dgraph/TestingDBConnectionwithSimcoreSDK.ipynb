{
 "cells": [
  {
   "cell_type": "code",
   "execution_count": null,
   "metadata": {},
   "outputs": [],
   "source": [
    "import sys\n",
    "sys.path.append(r\"C:\\Users\\anderegg\\Documents\\dev\\OSPARC\\osparc-simcore-ssh\\packages\\simcore-sdk\\src\")\n",
    "sys.path.append(r\"C:\\Users\\anderegg\\Documents\\dev\\OSPARC\\osparc-simcore-ssh\\packages\\s3wrapper\\src\")\n",
    "\n",
    "import logging\n",
    "logging.basicConfig(level=logging.WARNING)"
   ]
  },
  {
   "cell_type": "code",
   "execution_count": null,
   "metadata": {},
   "outputs": [],
   "source": [
    "import os\n",
    "os.environ[\"SIMCORE_NODE_UUID\"] = \"3a97f542-93c4-419c-b5c9-bcf9ff3ada7e\"\n",
    "os.environ[\"PIPELINE_NODE_ID\"] = \"42\"\n",
    "\n",
    "os.environ[\"POSTGRES_ENDPOINT\"] = \"localhost:5432\"\n",
    "os.environ[\"POSTGRES_USER\"] = \"simcore\"\n",
    "os.environ[\"POSTGRES_PASSWORD\"] = \"simcore\"\n",
    "os.environ[\"POSTGRES_DB\"] = \"simcoredb\"\n",
    "\n",
    "os.environ[\"S3_ENDPOINT\"] = \"localhost:9001\"\n",
    "os.environ[\"S3_ACCESS_KEY\"] = \"12345678\"\n",
    "os.environ[\"S3_SECRET_KEY\"] = \"12345678\"\n",
    "os.environ[\"S3_BUCKET_NAME\"] = \"simcore\"\n"
   ]
  },
  {
   "cell_type": "code",
   "execution_count": null,
   "metadata": {},
   "outputs": [],
   "source": [
    "from simcore_sdk.nodeports import PORTS"
   ]
  },
  {
   "cell_type": "code",
   "execution_count": null,
   "metadata": {
    "scrolled": false
   },
   "outputs": [],
   "source": [
    "print(len(PORTS.inputs))\n",
    "print(PORTS.inputs[0])"
   ]
  },
  {
   "cell_type": "code",
   "execution_count": null,
   "metadata": {
    "scrolled": false
   },
   "outputs": [],
   "source": [
    "print(PORTS.inputs[0].get())\n"
   ]
  },
  {
   "cell_type": "code",
   "execution_count": null,
   "metadata": {},
   "outputs": [],
   "source": [
    "print(PORTS.outputs[0])"
   ]
  },
  {
   "cell_type": "code",
   "execution_count": null,
   "metadata": {},
   "outputs": [],
   "source": [
    "PORTS.outputs[\"out_1\"].get()"
   ]
  },
  {
   "cell_type": "code",
   "execution_count": null,
   "metadata": {},
   "outputs": [],
   "source": [
    "PORTS.outputs[\"out_1\"].set(\"Hey this still works or NOTTTTTT crazy shit man!!\")"
   ]
  }
 ],
 "metadata": {
  "kernelspec": {
   "display_name": "Python 3",
   "language": "python",
   "name": "python3"
  },
  "language_info": {
   "codemirror_mode": {
    "name": "ipython",
    "version": 3
   },
   "file_extension": ".py",
   "mimetype": "text/x-python",
   "name": "python",
   "nbconvert_exporter": "python",
   "pygments_lexer": "ipython3",
   "version": "3.6.5"
  }
 },
 "nbformat": 4,
 "nbformat_minor": 2
}
