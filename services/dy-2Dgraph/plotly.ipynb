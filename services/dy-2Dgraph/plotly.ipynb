{
 "cells": [
  {
   "cell_type": "code",
   "execution_count": 6,
   "metadata": {
    "collapsed": true,
    "hide_input": true
   },
   "outputs": [
    {
     "data": {
      "text/markdown": [
       "### notebook-autorun\n",
       "\n",
       "This module enables auto-run of certains cells at notebook kernel start.  \n",
       "It will work **only** for <span style=\"color: red\">**trusted**</span> notebooks.  \n",
       "\n",
       "#### 1 - Settings\n",
       "\n",
       "The cells to autorun can be determined by one of the 3 args below.  \n",
       "Only one of them must be specified:  \n",
       "+ `cells`: List of 0-indexed cells or String representing a list of cells. [Python list slices](https://docs.python.org/2.3/whatsnew/section-slices.html) are allowed. Default is `None`. `cells` is stringified to `str_cells` before passing to javascript. Invalid cell numbers (e.g. greater than the notebook number of cells) are ignored. Examples: [2, 3], '2,3', '2:', ':-2', '4:8', '::-1'  \n",
       "+ `metadata`: Boolean (default is `False`). If `True`, all cells with medatada `\"autorun\": true` are concerned.  \n",
       "+ `comment`: Boolean (default is `False`). If `True`, all cells containing a comment `comment_flag` (default is `# AUTORUN`) are concerned.  \n",
       "\n",
       "\n",
       "#### 2 - Security\n",
       "\n",
       "Because a notebook is designed to allow the user to write arbitrary code, it has full access to many resources.   \n",
       "\n",
       "The typical risks are the following:\n",
       "+ A notebook has access to your file system and can therefore potentially read/modify/delete any of your files or send them to an attacker, or write a new file (virus).  \n",
       "+ A notebook may contain javascript in output cells which can read you cookies and local storage and potentially send them to an attacker.  \n",
       "\n",
       "See the [Security in notebook documents](https://jupyter-notebook.readthedocs.io/en/stable/security.html#security-in-notebook-documents) section of the official [Jupyter Notebook documentation](https://jupyter-notebook.readthedocs.io/en/stable/index.html) for more info.  \n",
       "\n",
       "Therefore you **should review** and **must trust** the notebook before you can use **notebook-autorun**."
      ],
      "text/plain": [
       "<IPython.core.display.Markdown object>"
      ]
     },
     "metadata": {},
     "output_type": "display_data"
    },
    {
     "name": "stdout",
     "output_type": "stream",
     "text": [
      "If you see <IPython.core.display.Javascript object> below, this notebook is not trusted.\n",
      "As a consequence Autorun cannot work.\n",
      "Run \"from notebook_autorun import Autorun; Autorun.info()\" for more info.\n"
     ]
    },
    {
     "data": {
      "application/javascript": [
       "\n",
       "\"use strict\";\n",
       "\n",
       "console.log('start main');\n",
       "\n",
       "require([\n",
       "\t'jquery',\n",
       "\t'base/js/dialog',\n",
       "\t'base/js/events',\n",
       "\t'base/js/namespace',\n",
       "\t'notebook/js/celltoolbar',\n",
       "\t'notebook/js/codecell',\n",
       "\t'base/js/promises'\n",
       "], function (\n",
       "\t$,\n",
       "\tdialog,\n",
       "\tevents,\n",
       "\tJupyter,\n",
       "\tcelltoolbar,\n",
       "\tcodecell,\n",
       "\tpromises\n",
       ") {\n",
       "\t\tevents.on('kernel_ready.Kernel', function () {\n",
       "\t\t\tconsole.log('start autorun');\n",
       "\t\t\tif (Jupyter.notebook.trusted) {\n",
       "\t\t\t\t// notebook is trusted js can run\n",
       "\t\t\t\tconsole.log('notebook is trusted');\n",
       "\t\t\t\tlet nbCells = Jupyter.notebook.get_cells(),\n",
       "\t\t\t\t\tarrCells;\n",
       "\t\t\t\twindow.debugNbCells = nbCells;\n",
       "\n",
       "\t\t\t\t\n",
       "\t\t\t\t\n",
       "\n",
       "let getCellsFromString = function(strCells, nbCells) {\n",
       "\t//strCells contains a Python string representing a list\n",
       "\n",
       "\tlet arrCell = [];\n",
       "\tif (strCells.indexOf(':') > -1) {\n",
       "\n",
       "\t\tlet listCell = strCells.split(':'),\n",
       "\t\t\tstart,\n",
       "\t\t\tend,\n",
       "\t\t\tstep;\n",
       "\n",
       "\t\tif (listCell.length == 2) {\n",
       "\t\t\t[start, end] = listCell;\n",
       "\t\t\tstep = 1;\n",
       "\t\t}\n",
       "\t\telse if (listCell.length == 3) {\n",
       "\t\t\t[start, end, step] = listCell;\n",
       "\t\t}\n",
       "\n",
       "\t\tstart = start !== '' ? parseInt(start) : 0;\n",
       "\t\tend = end !== '' ? parseInt(end) : nbCells.length;\n",
       "\t\tstep = step !== '' ? parseInt(step) : 1;\n",
       "\n",
       "\t\tstart = start >= 0 ? start : transformNegativeIndex(start, nbCells);\n",
       "\t\tend = end >= 0 ? end : transformNegativeIndex(end, nbCells);\n",
       "\n",
       "\t\tlet increasingOrder = ((start < end) && (step > 0));\n",
       "\t\tlet decreasingOrder = ((start > end) && (step < 0));\n",
       "\n",
       "\t\tlet i;\n",
       "\t\tif (increasingOrder) {\n",
       "\t\t\tfor (i = start; i < end; i += step) {\n",
       "\t\t\t\tarrCell.push(i);\n",
       "\t\t\t}\n",
       "\t\t}\n",
       "\t\telse if (decreasingOrder) {\n",
       "\t\t\tfor (i = start; i > end; i += step) {\n",
       "\t\t\t\tarrCell.push(i);\n",
       "\t\t\t}\n",
       "\t\t}\n",
       "\t}\n",
       "\telse {\n",
       "\t\tarrCell = strCells.split(',');\n",
       "\t\tarrCell = arrCell.map(e => {\n",
       "\t\t\tlet v = parseInt(e);\n",
       "\t\t\tlet idx = v >=0 ? v : transformNegativeIndex(v, nbCells);\n",
       "\t\t\treturn idx;\n",
       "\t\t});\n",
       "\t}\n",
       "\treturn arrCell;\n",
       "};\n",
       "\n",
       "let transformNegativeIndex = function(negIndex, nbCells){\n",
       "\treturn nbCells.length + negIndex;\n",
       "};\n",
       "\t\t\t\tconsole.log('str_cells=' + '1:6');\n",
       "\t\t\t\tarrCells = getCellsFromString('1:6', nbCells);\n",
       "\t\t\t\t\n",
       "\n",
       "\t\t\t\t\n",
       "\n",
       "\t\t\t\t\n",
       "\n",
       "\t\t\t\tconsole.log(arrCells);\n",
       "\t\t\t\tfor (let i of arrCells) {\n",
       "\t\t\t\t\tlet nbCell = nbCells[i];\n",
       "\t\t\t\t\tif (nbCell) {\n",
       "\t\t\t\t\t\tconsole.log('execute cell ' + i);\n",
       "\t\t\t\t\t\tnbCell.execute();\n",
       "\t\t\t\t\t}\n",
       "\t\t\t\t\telse {\n",
       "\t\t\t\t\t\tconsole.log('cell ' + i + ' does not exist');\n",
       "\t\t\t\t\t}\n",
       "\t\t\t\t}\n",
       "\n",
       "\t\t\t\t\n",
       "\n",
       "\t\t\t}\n",
       "\t\t\telse {\n",
       "\t\t\t\t// notebook is not trusted let the user know about it\n",
       "\t\t\t\t// by definition this should never happen as\n",
       "\t\t\t\t// js cannot run if notebook not trustee\n",
       "\t\t\t\tconsole.log('notebook is not trusted');\n",
       "\t\t\t\tconsole.log('nothing is done');\n",
       "\t\t\t}\n",
       "\t\t});\n",
       "\n",
       "\n",
       "\n",
       "\n",
       "\t});\n",
       "\n",
       "console.log('end main');"
      ],
      "text/plain": [
       "<IPython.core.display.Javascript object>"
      ]
     },
     "metadata": {},
     "output_type": "display_data"
    },
    {
     "data": {
      "text/markdown": [
       "This output cell contains **notebook-autorun** settings:  \n",
       "```json\n",
       "   {\"str_cells\": \"1:6\"}  \n",
       "```"
      ],
      "text/plain": [
       "<IPython.core.display.Markdown object>"
      ]
     },
     "metadata": {},
     "output_type": "display_data"
    }
   ],
   "source": [
    "from notebook_autorun import Autorun\n",
    "Autorun.info()\n",
    "cells = '1:6'\n",
    "Autorun(cells=cells).add_js()"
   ]
  },
  {
   "cell_type": "code",
   "execution_count": 1,
   "metadata": {
    "extensions": {
     "jupyter_dashboards": {
      "version": 1,
      "views": {
       "grid_default": {
        "hidden": true
       },
       "report_default": {}
      }
     }
    },
    "hide_input": true
   },
   "outputs": [],
   "source": [
    "#import os\n",
    "#os.environ[\"SIMCORE_CONFIG_PATH\"] = r\"C:\\Users\\anderegg\\Desktop\\alternative_config.json\"\n",
    "\n",
    "import simcoreapi\n",
    "from simcoreapi import PORTS\n",
    "from simcoreapi import config\n",
    "\n",
    "data_path = PORTS.inputs[0].value"
   ]
  },
  {
   "cell_type": "code",
   "execution_count": null,
   "metadata": {
    "extensions": {
     "jupyter_dashboards": {
      "version": 1,
      "views": {
       "grid_default": {
        "col": null,
        "height": 19,
        "hidden": false,
        "row": 0,
        "width": null
       },
       "report_default": {
        "hidden": false
       }
      }
     }
    },
    "hide_input": true
   },
   "outputs": [],
   "source": [
    "import plotly.offline as offline\n",
    "import plotly.figure_factory as ff\n",
    "import plotly.graph_objs as go\n",
    "import pandas as pd\n",
    "import os\n",
    "\n",
    "offline.init_notebook_mode(connected=True)\n",
    "\n",
    "column_name_map = {0: {\"name\":\"time [s]\"}, 1: {\"name\":\"rate\"}, 2: {\"name\":\"demand\"}, \n",
    "                   3: {\"name\":\"move/(max - min) sympathetic efferent\", \"scale\":1/0.0008}, \n",
    "                   4: {\"name\":\"threshold indirect parasympathetic efferent\", \"scale\":-1.0},\n",
    "                   5: {\"name\":\"direct parasympathetic efferent\", \"scale\":-1/0.0008}, \n",
    "                   6: {\"name\":\"recruitment = coefficient of variation\"}}\n",
    "\n",
    "\n",
    "data_frame = pd.read_csv(data_path, sep=',', names=[column_name_map[i][\"name\"] for i in column_name_map.keys()])\n",
    "\n",
    "trace = go.Table(\n",
    "    header=dict(\n",
    "        values=data_frame.columns,\n",
    "        fill=dict(color=\"#C2D4FF\"),\n",
    "        align=[\"left\"]\n",
    "    ),\n",
    "    cells=dict(\n",
    "        values=[data_frame[data_frame.columns[i]] for i in column_name_map.keys()],\n",
    "        fill=dict(color=\"#F5F8FF\"),\n",
    "        align=[\"left\"]\n",
    "    )\n",
    ")\n",
    "data = [trace]\n",
    "\n",
    "offline.iplot(data, filename='data-table', config={\"displayModeBar\": False})"
   ]
  },
  {
   "cell_type": "code",
   "execution_count": 3,
   "metadata": {
    "extensions": {
     "jupyter_dashboards": {
      "version": 1,
      "views": {
       "grid_default": {
        "col": null,
        "height": 20,
        "hidden": false,
        "row": 19,
        "width": null
       },
       "report_default": {
        "hidden": false
       }
      }
     }
    },
    "hide_input": true
   },
   "outputs": [],
   "source": [
    "def create_graph(data_frame, data_scaling, title, x_axis_title):\n",
    "    data = [\n",
    "        go.Scatter(\n",
    "            x=data_frame[data_frame.columns[0]],\n",
    "            y=data_frame[data_frame.columns[i]] * data_scaling[i], \n",
    "            opacity=0.5,                        \n",
    "            name=data_frame.columns[i]\n",
    "        ) for i in range(1,data_frame.columns.size)\n",
    "    ]\n",
    "\n",
    "    layout = go.Layout(\n",
    "        title=title, \n",
    "        showlegend=True,\n",
    "        xaxis=dict(\n",
    "            title=x_axis_title\n",
    "        ),\n",
    "        yaxis=dict(\n",
    "            #range=[0,.5]    \n",
    "        ))\n",
    "    fig = go.Figure(data=data, layout=layout)\n",
    "    offline.iplot(fig, config={\"displayModeBar\": False})"
   ]
  },
  {
   "cell_type": "code",
   "execution_count": null,
   "metadata": {
    "hide_input": true
   },
   "outputs": [],
   "source": [
    "title=\"Heart Rate(r)\"\n",
    "heart_axis_colums = [0,1,2,3,5]\n",
    "heart_rate_data = data_frame.filter(items=[data_frame.columns[i] for i in heart_axis_colums])\n",
    "heart_rate_data_scaling = [column_name_map[i][\"scale\"] if \"scale\" in column_name_map[i] else 1 for i in heart_axis_colums]\n",
    "create_graph(data_frame=heart_rate_data, \n",
    "             data_scaling=heart_rate_data_scaling, \n",
    "             title=title, \n",
    "             x_axis_title=\"time(sec)\")"
   ]
  },
  {
   "cell_type": "code",
   "execution_count": null,
   "metadata": {
    "hide_input": true
   },
   "outputs": [],
   "source": [
    "import pprint\n",
    "print(\"There are \", len(PORTS.inputs), \" inputs\")\n",
    "for _in in PORTS.inputs:\n",
    "    pprint.pprint(_in._asdict)\n",
    "\n"
   ]
  },
  {
   "cell_type": "code",
   "execution_count": null,
   "metadata": {
    "hide_input": true
   },
   "outputs": [],
   "source": [
    "print(\"There are \", len(simcore.outputs), \" outputs\")\n",
    "for _out in simcore.outputs:\n",
    "    pprint.pprint(_out._asdict)\n"
   ]
  }
 ],
 "metadata": {
  "extensions": {
   "jupyter_dashboards": {
    "activeView": "grid_default",
    "version": 1,
    "views": {
     "grid_default": {
      "cellMargin": 10,
      "defaultCellHeight": 20,
      "maxColumns": 12,
      "name": "grid",
      "type": "grid"
     },
     "report_default": {
      "name": "report",
      "type": "report"
     }
    }
   }
  },
  "kernelspec": {
   "display_name": "Python 3",
   "language": "python",
   "name": "python3"
  },
  "language_info": {
   "codemirror_mode": {
    "name": "ipython",
    "version": 3
   },
   "file_extension": ".py",
   "mimetype": "text/x-python",
   "name": "python",
   "nbconvert_exporter": "python",
   "pygments_lexer": "ipython3",
   "version": "3.6.5"
  }
 },
 "nbformat": 4,
 "nbformat_minor": 2
}
