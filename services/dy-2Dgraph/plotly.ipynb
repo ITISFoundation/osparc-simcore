{
 "cells": [
  {
   "cell_type": "code",
   "execution_count": null,
   "metadata": {
    "hide_input": true
   },
   "outputs": [],
   "source": [
    "#import os\n",
    "#os.environ[\"SIMCORE_CONFIG_PATH\"] = r\"C:\\Users\\anderegg\\Desktop\\alternative_config.json\"\n"
   ]
  },
  {
   "cell_type": "code",
   "execution_count": null,
   "metadata": {
    "extensions": {
     "jupyter_dashboards": {
      "version": 1,
      "views": {
       "grid_default": {
        "hidden": true
       },
       "report_default": {}
      }
     }
    },
    "hide_input": false
   },
   "outputs": [],
   "source": [
    "import simcoreapi\n",
    "from simcoreapi import simcore\n",
    "from simcoreapi import config\n",
    "\n",
    "data_path = simcore.inputs[0].value"
   ]
  },
  {
   "cell_type": "code",
   "execution_count": null,
   "metadata": {
    "extensions": {
     "jupyter_dashboards": {
      "version": 1,
      "views": {
       "grid_default": {
        "col": null,
        "height": 19,
        "hidden": false,
        "row": 0,
        "width": null
       },
       "report_default": {
        "hidden": false
       }
      }
     }
    },
    "hide_input": true
   },
   "outputs": [],
   "source": [
    "import plotly.offline as offline\n",
    "import plotly.figure_factory as ff\n",
    "import plotly.graph_objs as go\n",
    "import pandas as pd\n",
    "import os\n",
    "\n",
    "offline.init_notebook_mode(connected=True)\n",
    "\n",
    "column_name_map = {0: {\"name\":\"time [s]\"}, 1: {\"name\":\"rate\"}, 2: {\"name\":\"demand\"}, \n",
    "                   3: {\"name\":\"move/(max - min) sympathetic efferent\", \"scale\":1/0.0008}, \n",
    "                   4: {\"name\":\"threshold indirect parasympathetic efferent\", \"scale\":-1.0},\n",
    "                   5: {\"name\":\"direct parasympathetic efferent\", \"scale\":-1/0.0008}, \n",
    "                   6: {\"name\":\"recruitment = coefficient of variation\"}}\n",
    "\n",
    "\n",
    "data_frame = pd.read_csv(data_path, sep=',', names=[column_name_map[i][\"name\"] for i in column_name_map.keys()])\n",
    "\n",
    "trace = go.Table(\n",
    "    header=dict(\n",
    "        values=data_frame.columns,\n",
    "        fill=dict(color=\"#C2D4FF\"),\n",
    "        align=[\"left\"]\n",
    "    ),\n",
    "    cells=dict(\n",
    "        values=[data_frame[data_frame.columns[i]] for i in column_name_map.keys()],\n",
    "        fill=dict(color=\"#F5F8FF\"),\n",
    "        align=[\"left\"]\n",
    "    )\n",
    ")\n",
    "data = [trace]\n",
    "\n",
    "offline.iplot(data, filename='data-table', config={\"displayModeBar\": False})"
   ]
  },
  {
   "cell_type": "code",
   "execution_count": null,
   "metadata": {
    "extensions": {
     "jupyter_dashboards": {
      "version": 1,
      "views": {
       "grid_default": {
        "col": null,
        "height": 20,
        "hidden": false,
        "row": 19,
        "width": null
       },
       "report_default": {
        "hidden": false
       }
      }
     }
    },
    "hide_input": true
   },
   "outputs": [],
   "source": [
    "def create_graph(data_frame, data_scaling, title, x_axis_title):\n",
    "    data = [\n",
    "        go.Scatter(\n",
    "            x=data_frame[data_frame.columns[0]],\n",
    "            y=data_frame[data_frame.columns[i]] * data_scaling[i], \n",
    "            opacity=0.5,                        \n",
    "            name=data_frame.columns[i]\n",
    "        ) for i in range(1,data_frame.columns.size)\n",
    "    ]\n",
    "\n",
    "    layout = go.Layout(\n",
    "        title=title, \n",
    "        showlegend=True,\n",
    "        xaxis=dict(\n",
    "            title=x_axis_title\n",
    "        ),\n",
    "        yaxis=dict(\n",
    "            #range=[0,.5]    \n",
    "        ))\n",
    "    fig = go.Figure(data=data, layout=layout)\n",
    "    offline.iplot(fig, config={\"displayModeBar\": False})"
   ]
  },
  {
   "cell_type": "code",
   "execution_count": null,
   "metadata": {
    "hide_input": true
   },
   "outputs": [],
   "source": [
    "title=\"Heart Rate(r)\"\n",
    "heart_axis_colums = [0,1,2,3,5]\n",
    "heart_rate_data = data_frame.filter(items=[data_frame.columns[i] for i in heart_axis_colums])\n",
    "heart_rate_data_scaling = [column_name_map[i][\"scale\"] if \"scale\" in column_name_map[i] else 1 for i in heart_axis_colums]\n",
    "create_graph(data_frame=heart_rate_data, \n",
    "             data_scaling=heart_rate_data_scaling, \n",
    "             title=title, \n",
    "             x_axis_title=\"time(sec)\")"
   ]
  },
  {
   "cell_type": "code",
   "execution_count": null,
   "metadata": {
    "hide_input": true
   },
   "outputs": [],
   "source": [
    "import pprint\n",
    "print(\"There are \", len(simcore.inputs), \" inputs\")\n",
    "for _in in simcore.inputs:\n",
    "    pprint.pprint(_in._asdict)\n",
    "\n"
   ]
  },
  {
   "cell_type": "code",
   "execution_count": null,
   "metadata": {
    "hide_input": true
   },
   "outputs": [],
   "source": [
    "print(\"There are \", len(simcore.outputs), \" outputs\")\n",
    "for _out in simcore.outputs:\n",
    "    pprint.pprint(_out._asdict)\n"
   ]
  }
 ],
 "metadata": {
  "extensions": {
   "jupyter_dashboards": {
    "activeView": "grid_default",
    "version": 1,
    "views": {
     "grid_default": {
      "cellMargin": 10,
      "defaultCellHeight": 20,
      "maxColumns": 12,
      "name": "grid",
      "type": "grid"
     },
     "report_default": {
      "name": "report",
      "type": "report"
     }
    }
   }
  },
  "kernelspec": {
   "display_name": "Python 3",
   "language": "python",
   "name": "python3"
  },
  "language_info": {
   "codemirror_mode": {
    "name": "ipython",
    "version": 3
   },
   "file_extension": ".py",
   "mimetype": "text/x-python",
   "name": "python",
   "nbconvert_exporter": "python",
   "pygments_lexer": "ipython3",
   "version": "3.6.5"
  }
 },
 "nbformat": 4,
 "nbformat_minor": 2
}
